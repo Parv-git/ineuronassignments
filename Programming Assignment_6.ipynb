{
 "cells": [
  {
   "cell_type": "code",
   "execution_count": 2,
   "id": "94f74081",
   "metadata": {},
   "outputs": [],
   "source": [
    "#1. Write a Python Program to Display Fibonacci Sequence Using Recursion?"
   ]
  },
  {
   "cell_type": "code",
   "execution_count": 7,
   "id": "4970e2d7",
   "metadata": {},
   "outputs": [
    {
     "name": "stdout",
     "output_type": "stream",
     "text": [
      "Enter any integer: 12\n",
      "Fibonacci sequence:\n",
      "0\n",
      "1\n",
      "1\n",
      "2\n",
      "3\n",
      "5\n",
      "8\n",
      "13\n",
      "21\n",
      "34\n",
      "55\n",
      "89\n"
     ]
    }
   ],
   "source": [
    "def recur_fibo(n):\n",
    "    if n <= 1:\n",
    "        return n\n",
    "    else:\n",
    "        return(recur_fibo(n-1) + recur_fibo(n-2))\n",
    "\n",
    "nterms = int(input('Enter any integer: '))\n",
    "if nterms <= 0:\n",
    "    print(\"Plese enter a positive integer\")\n",
    "else:\n",
    "    print(\"Fibonacci sequence:\")\n",
    "    for i in range(nterms):\n",
    "        print(recur_fibo(i))"
   ]
  },
  {
   "cell_type": "code",
   "execution_count": null,
   "id": "50089ace",
   "metadata": {},
   "outputs": [],
   "source": [
    "#2. Write a Python Program to Find Factorial of Number Using Recursion?"
   ]
  },
  {
   "cell_type": "code",
   "execution_count": 5,
   "id": "aa9fe3d4",
   "metadata": {},
   "outputs": [
    {
     "name": "stdout",
     "output_type": "stream",
     "text": [
      "Enter the number you want to find the factorial of : 12\n",
      "The factorial of the given number is  479001600\n"
     ]
    }
   ],
   "source": [
    "def recur_factorial(n):\n",
    "    if n == 1:\n",
    "        return n\n",
    "    else:\n",
    "        return n*recur_factorial(n-1)\n",
    "a = int(input('Enter the number you want to find the factorial of : '))\n",
    "print('The factorial of the given number is ',recur_factorial(a))"
   ]
  },
  {
   "cell_type": "code",
   "execution_count": 3,
   "id": "90b67d8a",
   "metadata": {},
   "outputs": [],
   "source": [
    "#3. Write a Python Program to calculate your Body Mass Index?"
   ]
  },
  {
   "cell_type": "code",
   "execution_count": 9,
   "id": "5837237c",
   "metadata": {},
   "outputs": [
    {
     "name": "stdout",
     "output_type": "stream",
     "text": [
      "Enter your weight in kilograms : 60\n",
      "Enter your height in meters : 1.8034\n",
      "Your BMI is : 18.44875738948066\n"
     ]
    }
   ],
   "source": [
    "w  = int(input('Enter your weight in kilograms : '))\n",
    "h = float(input('Enter your height in meters : '))\n",
    "bmi = w / (h**2)\n",
    "print(f'Your BMI is : {bmi}')"
   ]
  },
  {
   "cell_type": "code",
   "execution_count": 4,
   "id": "2de8a416",
   "metadata": {},
   "outputs": [],
   "source": [
    "#4. Write a Python Program to calculate the natural logarithm of any number?"
   ]
  },
  {
   "cell_type": "code",
   "execution_count": 10,
   "id": "288216b0",
   "metadata": {},
   "outputs": [
    {
     "name": "stdout",
     "output_type": "stream",
     "text": [
      "Enter a number : 12\n",
      "math.log(12.0) :  2.4849066497880004\n"
     ]
    }
   ],
   "source": [
    "import math\n",
    "n = float(input('Enter a number : '))\n",
    "print (f\"math.log({n}) : \", math.log(n))"
   ]
  },
  {
   "cell_type": "code",
   "execution_count": null,
   "id": "2b3b6820",
   "metadata": {},
   "outputs": [],
   "source": [
    "#5. Write a Python Program for cube sum of first n natural numbers?"
   ]
  },
  {
   "cell_type": "code",
   "execution_count": 12,
   "id": "3e5e85fe",
   "metadata": {},
   "outputs": [
    {
     "name": "stdout",
     "output_type": "stream",
     "text": [
      "Enter any natural number : 5\n",
      "Sum of first 5 natural numbers is 225\n"
     ]
    }
   ],
   "source": [
    "n = int(input('Enter any natural number : '))\n",
    "s = 0\n",
    "for i in range(1,n+1):\n",
    "    s += i**3\n",
    "print(f'Sum of first {n} natural numbers is {s}')"
   ]
  }
 ],
 "metadata": {
  "kernelspec": {
   "display_name": "Python 3 (ipykernel)",
   "language": "python",
   "name": "python3"
  },
  "language_info": {
   "codemirror_mode": {
    "name": "ipython",
    "version": 3
   },
   "file_extension": ".py",
   "mimetype": "text/x-python",
   "name": "python",
   "nbconvert_exporter": "python",
   "pygments_lexer": "ipython3",
   "version": "3.9.12"
  }
 },
 "nbformat": 4,
 "nbformat_minor": 5
}
