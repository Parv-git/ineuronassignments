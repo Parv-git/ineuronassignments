{
 "cells": [
  {
   "cell_type": "code",
   "execution_count": null,
   "id": "7919942c",
   "metadata": {},
   "outputs": [],
   "source": [
    "#1. Write a Python Program to Find LCM?"
   ]
  },
  {
   "cell_type": "code",
   "execution_count": 4,
   "id": "83d4c5f7",
   "metadata": {},
   "outputs": [
    {
     "name": "stdout",
     "output_type": "stream",
     "text": [
      "Enter  first value: 24\n",
      "Enter second value: 54\n",
      "The LCM of 24 and 54 is 216\n"
     ]
    }
   ],
   "source": [
    "x = int(input('Enter  first value: '))\n",
    "y = int(input('Enter second value: '))\n",
    "if x > y:\n",
    "    greater = x\n",
    "else:\n",
    "    greater = y\n",
    "while(True):\n",
    "    if((greater % x == 0) and (greater % y == 0)):\n",
    "        lcm = greater\n",
    "        break\n",
    "    greater += 1\n",
    "print(f'The LCM of {x} and {y} is {lcm}')"
   ]
  },
  {
   "cell_type": "code",
   "execution_count": null,
   "id": "59234238",
   "metadata": {},
   "outputs": [],
   "source": [
    "#2. Write a Python Program to Find HCF?"
   ]
  },
  {
   "cell_type": "code",
   "execution_count": 10,
   "id": "ac705a93",
   "metadata": {},
   "outputs": [
    {
     "name": "stdout",
     "output_type": "stream",
     "text": [
      "Enter  first value: 100\n",
      "Enter second value: 12\n",
      "The HCF of 100 and 12 is 4\n"
     ]
    }
   ],
   "source": [
    "x = int(input('Enter  first value: '))\n",
    "y = int(input('Enter second value: '))\n",
    "if x < y:\n",
    "    smaller = x\n",
    "else:\n",
    "    smaller = y\n",
    "for i in range(1,smaller+1):\n",
    "    if(( x%i == 0 ) and ( y%i == 0 )):\n",
    "        hcf = i\n",
    "print(f'The HCF of {x} and {y} is {hcf}')"
   ]
  },
  {
   "cell_type": "code",
   "execution_count": null,
   "id": "50cae6e1",
   "metadata": {},
   "outputs": [],
   "source": [
    "#3. Write a Python Program to Convert Decimal to Binary, Octal and Hexadecimal?"
   ]
  },
  {
   "cell_type": "code",
   "execution_count": 71,
   "id": "7457dc05",
   "metadata": {},
   "outputs": [
    {
     "name": "stdout",
     "output_type": "stream",
     "text": [
      "Enter a decimal number : 120\n",
      " Enter [1] To convert to binary \n",
      " Enter [2] To convert to Octal \n",
      " Enter [3] To convert to Hexadecimal\n",
      " Enter [4] to get all values:4\n",
      "The Binary value of 120 is  0b1111000\n",
      "Octal value of 120 is  0o170\n",
      "Hexadecimal value of 120 is  0x78\n"
     ]
    }
   ],
   "source": [
    "d = int(input('Enter a decimal number : '))\n",
    "x = input(' Enter [1] To convert to binary \\n Enter [2] To convert to Octal \\n Enter [3] To convert to Hexadecimal\\n Enter [4] to get all values:')\n",
    "if x == '1':\n",
    "    print(f'The Binary value of {d} is ',bin(d))\n",
    "elif x == '2':\n",
    "    print(f'Octal value of {d} is ',oct(d))\n",
    "elif x == '3':\n",
    "    print(f'Hexadecimal value of {d} is ',hex(d))\n",
    "elif x == '4':\n",
    "    print(f'The Binary value of {d} is ',bin(d))\n",
    "    print(f'Octal value of {d} is ',oct(d))\n",
    "    print(f'Hexadecimal value of {d} is ',hex(d))   "
   ]
  },
  {
   "cell_type": "code",
   "execution_count": null,
   "id": "cb35dccc",
   "metadata": {},
   "outputs": [],
   "source": [
    "#4. Write a Python Program To Find ASCII value of a character?"
   ]
  },
  {
   "cell_type": "code",
   "execution_count": 8,
   "id": "08ee3f21",
   "metadata": {},
   "outputs": [
    {
     "name": "stdout",
     "output_type": "stream",
     "text": [
      "Enter the character: HI\n",
      "The ASCII value of H is 72 The ASCII value of I is 73 "
     ]
    }
   ],
   "source": [
    "s = input('Enter the character: ')\n",
    "for c in s:\n",
    "    print(f'The ASCII value of {c} is',ord(c),end=\" \")"
   ]
  },
  {
   "cell_type": "code",
   "execution_count": null,
   "id": "6e457222",
   "metadata": {},
   "outputs": [],
   "source": [
    "#5. Write a Python Program to Make a Simple Calculator with 4 basic mathematical operations?"
   ]
  },
  {
   "cell_type": "code",
   "execution_count": 2,
   "id": "02902204",
   "metadata": {},
   "outputs": [
    {
     "name": "stdout",
     "output_type": "stream",
     "text": [
      "Enter the first operand : 15\n",
      "Enter the operation such as +,-,/,* : +\n",
      "Enter the second operand : 15\n",
      "30\n"
     ]
    }
   ],
   "source": [
    "x =int( input('Enter the first operand : '))\n",
    "i = input('Enter the operation such as +,-,/,* : ')\n",
    "y =int(input('Enter the second operand : '))\n",
    "if i == '+':\n",
    "    print(x+y)\n",
    "elif i == '-':\n",
    "    print(x-y)\n",
    "elif i == '/':\n",
    "    print(x/y)\n",
    "elif i == '*':\n",
    "    print(x*y)"
   ]
  },
  {
   "cell_type": "code",
   "execution_count": 3,
   "id": "fca38a79",
   "metadata": {},
   "outputs": [
    {
     "data": {
      "text/plain": [
       "2.0"
      ]
     },
     "execution_count": 3,
     "metadata": {},
     "output_type": "execute_result"
    }
   ],
   "source": [
    "10/5"
   ]
  },
  {
   "cell_type": "code",
   "execution_count": 42,
   "id": "5e73be78",
   "metadata": {},
   "outputs": [],
   "source": [
    "x = 10"
   ]
  },
  {
   "cell_type": "code",
   "execution_count": 50,
   "id": "f1d9b95b",
   "metadata": {},
   "outputs": [
    {
     "data": {
      "text/plain": [
       "2.5"
      ]
     },
     "execution_count": 50,
     "metadata": {},
     "output_type": "execute_result"
    }
   ],
   "source": [
    "5/2"
   ]
  },
  {
   "cell_type": "code",
   "execution_count": 51,
   "id": "6195cc2d",
   "metadata": {},
   "outputs": [
    {
     "data": {
      "text/plain": [
       "2"
      ]
     },
     "execution_count": 51,
     "metadata": {},
     "output_type": "execute_result"
    }
   ],
   "source": [
    "5//2"
   ]
  },
  {
   "cell_type": "code",
   "execution_count": 52,
   "id": "da2fc563",
   "metadata": {},
   "outputs": [
    {
     "data": {
      "text/plain": [
       "1"
      ]
     },
     "execution_count": 52,
     "metadata": {},
     "output_type": "execute_result"
    }
   ],
   "source": [
    "5%2"
   ]
  },
  {
   "cell_type": "code",
   "execution_count": 49,
   "id": "f1d53e5e",
   "metadata": {},
   "outputs": [
    {
     "data": {
      "text/plain": [
       "1"
      ]
     },
     "execution_count": 49,
     "metadata": {},
     "output_type": "execute_result"
    }
   ],
   "source": [
    "5%2"
   ]
  },
  {
   "cell_type": "code",
   "execution_count": 61,
   "id": "556e18f2",
   "metadata": {},
   "outputs": [],
   "source": [
    "n = 10"
   ]
  },
  {
   "cell_type": "code",
   "execution_count": 63,
   "id": "b218990d",
   "metadata": {},
   "outputs": [
    {
     "data": {
      "text/plain": [
       "(5.0, 5, 0)"
      ]
     },
     "execution_count": 63,
     "metadata": {},
     "output_type": "execute_result"
    }
   ],
   "source": [
    "10/2,10//2,10%2"
   ]
  },
  {
   "cell_type": "code",
   "execution_count": null,
   "id": "6bff9387",
   "metadata": {},
   "outputs": [],
   "source": []
  }
 ],
 "metadata": {
  "kernelspec": {
   "display_name": "Python 3 (ipykernel)",
   "language": "python",
   "name": "python3"
  },
  "language_info": {
   "codemirror_mode": {
    "name": "ipython",
    "version": 3
   },
   "file_extension": ".py",
   "mimetype": "text/x-python",
   "name": "python",
   "nbconvert_exporter": "python",
   "pygments_lexer": "ipython3",
   "version": "3.9.12"
  }
 },
 "nbformat": 4,
 "nbformat_minor": 5
}
