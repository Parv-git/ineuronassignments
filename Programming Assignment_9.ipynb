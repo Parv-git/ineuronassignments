{
 "cells": [
  {
   "cell_type": "code",
   "execution_count": 1,
   "id": "961b1c07",
   "metadata": {},
   "outputs": [],
   "source": [
    "#1. Write a Python program to check if the given number is a Disarium Number?"
   ]
  },
  {
   "cell_type": "code",
   "execution_count": 19,
   "id": "f894e780",
   "metadata": {},
   "outputs": [
    {
     "name": "stdout",
     "output_type": "stream",
     "text": [
      "Enter a number : 175\n",
      "175 is a disarium number\n"
     ]
    }
   ],
   "source": [
    "n = int(input('Enter a number : '))\n",
    "num = n\n",
    "rem = sum1 = 0; \n",
    "length = 0;    \n",
    "while(n != 0):\n",
    "    length = length + 1;    \n",
    "    n = n//10;\n",
    "n = num\n",
    "while(num > 0):    \n",
    "    rem = num%10;    \n",
    "    sum1 = sum1 + int(rem**int(length));    \n",
    "    num = num//10;    \n",
    "    length = length - 1;     \n",
    "if(sum1 == n):    \n",
    "    print(str(n) + \" is a disarium number\");    \n",
    "else:    \n",
    "    print(str(n) + \" is not a disarium number\");"
   ]
  },
  {
   "cell_type": "code",
   "execution_count": null,
   "id": "565e12cf",
   "metadata": {},
   "outputs": [],
   "source": [
    "#2. Write a Python program to print all disarium numbers between 1 to 100?"
   ]
  },
  {
   "cell_type": "code",
   "execution_count": 25,
   "id": "36716a19",
   "metadata": {},
   "outputs": [
    {
     "name": "stdout",
     "output_type": "stream",
     "text": [
      "1 is a disarium number\n",
      "2 is a disarium number\n",
      "3 is a disarium number\n",
      "4 is a disarium number\n",
      "5 is a disarium number\n",
      "6 is a disarium number\n",
      "7 is a disarium number\n",
      "8 is a disarium number\n",
      "9 is a disarium number\n",
      "89 is a disarium number\n"
     ]
    }
   ],
   "source": [
    "def disarium(n):\n",
    "    num = n\n",
    "    rem = sum1 = 0;\n",
    "    length = 0;\n",
    "    while(n != 0):\n",
    "        length = length + 1;\n",
    "        n = n//10;\n",
    "    n = num\n",
    "    while(num > 0):\n",
    "        rem = num%10;\n",
    "        sum1 = sum1 + int(rem**int(length));\n",
    "        num = num//10;\n",
    "        length = length - 1;\n",
    "    if(sum1 == n):\n",
    "        print(str(n) + \" is a disarium number\");\n",
    "        \n",
    "        \n",
    "for i in range(1,101):\n",
    "    disarium(i)"
   ]
  },
  {
   "cell_type": "code",
   "execution_count": null,
   "id": "f84ff528",
   "metadata": {},
   "outputs": [],
   "source": [
    "#3. Write a Python program to check if the given number is Happy Number?"
   ]
  },
  {
   "cell_type": "code",
   "execution_count": 8,
   "id": "265fa2ef",
   "metadata": {},
   "outputs": [
    {
     "name": "stdout",
     "output_type": "stream",
     "text": [
      "Enter a number: 100\n",
      "100  is a Happy Number.\n"
     ]
    }
   ],
   "source": [
    "def isHappyNum(n):\n",
    "    digit = s = 0\n",
    "    while(n>0):\n",
    "        digit = n %10\n",
    "        s = s +(digit * digit)\n",
    "        n = n//10\n",
    "    return s\n",
    "num =  int(input('Enter a number: '))\n",
    "result = num\n",
    "while (result != 1 and result != 4):\n",
    "    result = isHappyNum(result)\n",
    "if(result==1):\n",
    "    print(num,' is a Happy Number.')\n",
    "else :\n",
    "    print(num,' is an Unhappy Number.')"
   ]
  },
  {
   "cell_type": "code",
   "execution_count": null,
   "id": "6f56d232",
   "metadata": {},
   "outputs": [],
   "source": [
    "#4. Write a Python program to print all happy numbers between 1 and 100?"
   ]
  },
  {
   "cell_type": "code",
   "execution_count": 11,
   "id": "79eed875",
   "metadata": {},
   "outputs": [
    {
     "name": "stdout",
     "output_type": "stream",
     "text": [
      "1  is a Happy Number.\n",
      "7  is a Happy Number.\n",
      "10  is a Happy Number.\n",
      "13  is a Happy Number.\n",
      "19  is a Happy Number.\n",
      "23  is a Happy Number.\n",
      "28  is a Happy Number.\n",
      "31  is a Happy Number.\n",
      "32  is a Happy Number.\n",
      "44  is a Happy Number.\n",
      "49  is a Happy Number.\n",
      "68  is a Happy Number.\n",
      "70  is a Happy Number.\n",
      "79  is a Happy Number.\n",
      "82  is a Happy Number.\n",
      "86  is a Happy Number.\n",
      "91  is a Happy Number.\n",
      "94  is a Happy Number.\n",
      "97  is a Happy Number.\n",
      "100  is a Happy Number.\n"
     ]
    }
   ],
   "source": [
    "def isHappyNum(n):\n",
    "    digit = s = 0\n",
    "    while(n>0):\n",
    "        digit = n %10\n",
    "        s = s +(digit * digit)\n",
    "        n = n//10\n",
    "    return s\n",
    "for i in range(1,101):\n",
    "    num =  i\n",
    "    result = num\n",
    "    while (result != 1 and result != 4):\n",
    "        result = isHappyNum(result)\n",
    "    if(result==1):\n",
    "        print(num,' is a Happy Number.')"
   ]
  },
  {
   "cell_type": "code",
   "execution_count": null,
   "id": "89365a4c",
   "metadata": {},
   "outputs": [],
   "source": [
    "#5. Write a Python program to determine whether the given number is a Harshad Number?"
   ]
  },
  {
   "cell_type": "code",
   "execution_count": 16,
   "id": "132898e1",
   "metadata": {},
   "outputs": [
    {
     "name": "stdout",
     "output_type": "stream",
     "text": [
      "Enter a number: 21\n",
      "21  is a Harshad Number.\n"
     ]
    }
   ],
   "source": [
    "n = int(input('Enter a number: '))\n",
    "c = n\n",
    "s = 0\n",
    "while c>0:\n",
    "    r = c%10\n",
    "    s = s + r\n",
    "    r = r // 10\n",
    "    c = c//10\n",
    "if n%s == 0:\n",
    "    print(n,' is a Harshad Number.')\n",
    "else:\n",
    "    print(n,' is not a Harshad Number.')"
   ]
  },
  {
   "cell_type": "code",
   "execution_count": null,
   "id": "82eb9846",
   "metadata": {},
   "outputs": [],
   "source": [
    "#6. Write a Python program to print all pronic numbers between 1 and 100?"
   ]
  },
  {
   "cell_type": "code",
   "execution_count": 19,
   "id": "0d04579b",
   "metadata": {},
   "outputs": [
    {
     "name": "stdout",
     "output_type": "stream",
     "text": [
      "2  is a pronic number.\n",
      "6  is a pronic number.\n",
      "12  is a pronic number.\n",
      "20  is a pronic number.\n",
      "30  is a pronic number.\n",
      "42  is a pronic number.\n",
      "56  is a pronic number.\n",
      "72  is a pronic number.\n",
      "90  is a pronic number.\n"
     ]
    }
   ],
   "source": [
    "#A number is called a pronic number if it is a product of two consecutive number is equal to number\n",
    "#Example : 6 = 2X3 ; Here two and three are consecutive numbers \n",
    "for n in range(1, 101):\n",
    "    flag = 0\n",
    "    for i in range(1,n+1):\n",
    "        if (i*(i+1)==n):\n",
    "            flag = 1\n",
    "            break\n",
    "    if flag ==1:\n",
    "        print(n,' is a pronic number.')"
   ]
  }
 ],
 "metadata": {
  "kernelspec": {
   "display_name": "Python 3 (ipykernel)",
   "language": "python",
   "name": "python3"
  },
  "language_info": {
   "codemirror_mode": {
    "name": "ipython",
    "version": 3
   },
   "file_extension": ".py",
   "mimetype": "text/x-python",
   "name": "python",
   "nbconvert_exporter": "python",
   "pygments_lexer": "ipython3",
   "version": "3.9.12"
  }
 },
 "nbformat": 4,
 "nbformat_minor": 5
}
