{
 "cells": [
  {
   "cell_type": "code",
   "execution_count": null,
   "id": "fac92286",
   "metadata": {},
   "outputs": [],
   "source": [
    "#1. Write a Python Program to Find the Factorial of a Number?"
   ]
  },
  {
   "cell_type": "code",
   "execution_count": 12,
   "id": "53f56033",
   "metadata": {},
   "outputs": [
    {
     "name": "stdout",
     "output_type": "stream",
     "text": [
      "Enter the value of n:5\n",
      "Factorial of the 5 is  120\n"
     ]
    }
   ],
   "source": [
    "n = int(input('Enter the value of n:'))\n",
    "c = n\n",
    "if n < 0:\n",
    "    print('Invalid input')\n",
    "elif n == 0 or n == 1:\n",
    "    print(f'Factorial of {n} is {n}')\n",
    "else:\n",
    "    fact = 1\n",
    "    while(n > 1):\n",
    "        fact *= n\n",
    "        n -= 1\n",
    "    print(f'Factorial of the {c} is ',fact) \n",
    "    "
   ]
  },
  {
   "cell_type": "code",
   "execution_count": 9,
   "id": "f4a6d034",
   "metadata": {},
   "outputs": [],
   "source": [
    "#2. Write a Python Program to Display the multiplication Table?"
   ]
  },
  {
   "cell_type": "code",
   "execution_count": 16,
   "id": "0a2b38b3",
   "metadata": {},
   "outputs": [
    {
     "name": "stdout",
     "output_type": "stream",
     "text": [
      "Enter the number you want to see the table of : 59\n",
      "59 X 1 = 59\n",
      "59 X 2 = 118\n",
      "59 X 3 = 177\n",
      "59 X 4 = 236\n",
      "59 X 5 = 295\n",
      "59 X 6 = 354\n",
      "59 X 7 = 413\n",
      "59 X 8 = 472\n",
      "59 X 9 = 531\n",
      "59 X 10 = 590\n"
     ]
    }
   ],
   "source": [
    "m = int(input('Enter the number you want to see the table of : '))\n",
    "count = 10\n",
    "for i in range(1,count+1):\n",
    "    print(f'{m} X {i} = {m*i}')"
   ]
  },
  {
   "cell_type": "code",
   "execution_count": null,
   "id": "ad5f60f6",
   "metadata": {},
   "outputs": [],
   "source": [
    "#3. Write a Python Program to Print the Fibonacci sequence?"
   ]
  },
  {
   "cell_type": "code",
   "execution_count": 21,
   "id": "f8b80085",
   "metadata": {},
   "outputs": [
    {
     "name": "stdout",
     "output_type": "stream",
     "text": [
      "Enter a Number to find the fibonacci sequence of : 12\n",
      "Fibonacci of 12 is 144\n"
     ]
    }
   ],
   "source": [
    "a = 0 \n",
    "b = 1\n",
    "f = int(input('Enter a Number to find the fibonacci sequence of : '))\n",
    "if f < 0 :\n",
    "    print('Invalid Input')\n",
    "elif f == 0:\n",
    "    print('Input can not be zero')\n",
    "elif f == 1:\n",
    "    print('Input can not be 1')\n",
    "else:\n",
    "    for x in range(1,f):\n",
    "        c = a+b\n",
    "        a = b\n",
    "        b = c\n",
    "    print(f'Fibonacci of {f} is {c}')"
   ]
  },
  {
   "cell_type": "code",
   "execution_count": null,
   "id": "79babeb7",
   "metadata": {},
   "outputs": [],
   "source": [
    "#4. Write a Python Program to Check Armstrong Number?"
   ]
  },
  {
   "cell_type": "code",
   "execution_count": 26,
   "id": "f37a6b92",
   "metadata": {},
   "outputs": [
    {
     "name": "stdout",
     "output_type": "stream",
     "text": [
      "Enter a number to check if the given number is Armstrong or not: 153\n",
      "153 is an Armstrong Number.\n"
     ]
    }
   ],
   "source": [
    "num = int(input('Enter a number to check if the given number is Armstrong or not: '))\n",
    "s = 0\n",
    "c = num\n",
    "\n",
    "while c > 0 :\n",
    "    d   =  c%10\n",
    "    s  +=  d ** 3\n",
    "    c //=  10\n",
    "if num == s:\n",
    "    print(f'{num} is an Armstrong Number.')\n",
    "else:\n",
    "    print(f'{num} is not an Armstrong Number.')"
   ]
  },
  {
   "cell_type": "code",
   "execution_count": null,
   "id": "44ecbb3f",
   "metadata": {},
   "outputs": [],
   "source": [
    "#5. Write a Python Program to Find Armstrong Number in an Interval?"
   ]
  },
  {
   "cell_type": "code",
   "execution_count": 45,
   "id": "4bbb6ad1",
   "metadata": {},
   "outputs": [
    {
     "name": "stdout",
     "output_type": "stream",
     "text": [
      "Enter the lower limit : 0\n",
      "Enter the upper limit : 2000\n",
      "153 370 371 407 1634 "
     ]
    }
   ],
   "source": [
    "l = int(input('Enter the lower limit : '))\n",
    "u = int(input('Enter the upper limit : '))\n",
    "v = False\n",
    "for i in range(l,u+1):\n",
    "    x = len(str(i))\n",
    "    s = 0\n",
    "    c = i\n",
    "    while c > 0 :\n",
    "        d   =  c%10\n",
    "        s  +=  d ** x\n",
    "        c //=  10\n",
    "    if i == s:\n",
    "        v = True\n",
    "        if i >10:\n",
    "            print(i,end= ' ')\n",
    "if not v:\n",
    "    print('No Armstrong Number inbetween')"
   ]
  },
  {
   "cell_type": "code",
   "execution_count": null,
   "id": "7f25deb2",
   "metadata": {},
   "outputs": [],
   "source": [
    "#6. Write a Python Program to Find the Sum of Natural Numbers?"
   ]
  },
  {
   "cell_type": "code",
   "execution_count": 31,
   "id": "2e959bf4",
   "metadata": {},
   "outputs": [
    {
     "name": "stdout",
     "output_type": "stream",
     "text": [
      "Enter the number for till you want the summation of : 10\n",
      "55\n"
     ]
    }
   ],
   "source": [
    "nat = int(input(\"Enter the number for till you want the summation of : \"))\n",
    "count = 0\n",
    "for i in range(nat+1):\n",
    "    count = count +i\n",
    "print(count)"
   ]
  }
 ],
 "metadata": {
  "kernelspec": {
   "display_name": "Python 3 (ipykernel)",
   "language": "python",
   "name": "python3"
  },
  "language_info": {
   "codemirror_mode": {
    "name": "ipython",
    "version": 3
   },
   "file_extension": ".py",
   "mimetype": "text/x-python",
   "name": "python",
   "nbconvert_exporter": "python",
   "pygments_lexer": "ipython3",
   "version": "3.9.12"
  }
 },
 "nbformat": 4,
 "nbformat_minor": 5
}
