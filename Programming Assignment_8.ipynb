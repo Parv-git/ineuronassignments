{
 "cells": [
  {
   "cell_type": "code",
   "execution_count": 1,
   "id": "891b6f15",
   "metadata": {},
   "outputs": [],
   "source": [
    "#1. Write a Python Program to Add Two Matrices?"
   ]
  },
  {
   "cell_type": "code",
   "execution_count": 16,
   "id": "fc97081f",
   "metadata": {},
   "outputs": [
    {
     "name": "stdout",
     "output_type": "stream",
     "text": [
      "Enter the number of rows and columns: 2\n",
      "Enter the entries row-wise: \n",
      "1\n",
      "2\n",
      "3\n",
      "4\n",
      "1 2 \n",
      "3 4 \n",
      "Enter the number of rows and columns: 2\n",
      "Enter the entries row-wise: \n",
      "4\n",
      "3\n",
      "2\n",
      "1\n",
      "4 3 \n",
      "2 1 \n",
      "[5, 5]\n",
      "[5, 5]\n"
     ]
    }
   ],
   "source": [
    "r = c =  int(input('Enter the number of rows and columns: '))\n",
    "matrix = []\n",
    "print('Enter the entries row-wise: ')\n",
    "for i in range(r):\n",
    "    a = []\n",
    "    for j in range(c):\n",
    "        a.append(int(input()))\n",
    "    matrix.append(a)\n",
    "for m in range(r):\n",
    "    for n in range(c):\n",
    "        print(matrix[m][n], end = ' ')\n",
    "    print()\n",
    "X = matrix\n",
    " \n",
    "r = c =  int(input('Enter the number of rows and columns: '))\n",
    "matrix1 = []\n",
    "print('Enter the entries row-wise: ')\n",
    "for i in range(r):\n",
    "    a = []\n",
    "    for j in range(c):\n",
    "        a.append(int(input()))\n",
    "    matrix1.append(a)\n",
    "for m in range(r):\n",
    "    for n in range(c):\n",
    "        print(matrix1[m][n], end = ' ')\n",
    "    print()\n",
    "Y = matrix1\n",
    " \n",
    "result = matrix\n",
    "for i in range(len(X)):\n",
    "    for j in range(len(X[0])):\n",
    "        result[i][j] = X[i][j] + Y[i][j]\n",
    "for r in result:\n",
    "    print(r)"
   ]
  },
  {
   "cell_type": "code",
   "execution_count": 2,
   "id": "73abf4e3",
   "metadata": {},
   "outputs": [],
   "source": [
    "#2. Write a Python Program to Multiply Two Matrices?"
   ]
  },
  {
   "cell_type": "code",
   "execution_count": 21,
   "id": "d44f3daa",
   "metadata": {
    "scrolled": true
   },
   "outputs": [
    {
     "name": "stdout",
     "output_type": "stream",
     "text": [
      "Enter the number of rows and columns: 3\n",
      "Enter the entries row-wise: \n",
      "1\n",
      "2\n",
      "3\n",
      "4\n",
      "5\n",
      "6\n",
      "7\n",
      "8\n",
      "9\n",
      "1 2 3 \n",
      "4 5 6 \n",
      "7 8 9 \n",
      "Enter the number of rows and columns: 3\n",
      "Enter the entries row-wise: \n",
      "9\n",
      "8\n",
      "7\n",
      "6\n",
      "5\n",
      "4\n",
      "3\n",
      "2\n",
      "1\n",
      "9 8 7 \n",
      "6 5 4 \n",
      "3 2 1 \n",
      "[30, 24, 18]\n",
      "[84, 69, 54]\n",
      "[138, 114, 90]\n"
     ]
    }
   ],
   "source": [
    "r = c =  int(input('Enter the number of rows and columns: '))\n",
    "matrix = []\n",
    "print('Enter the entries row-wise: ')\n",
    "for i in range(r):\n",
    "    a = []\n",
    "    for j in range(c):\n",
    "        a.append(int(input()))\n",
    "    matrix.append(a)\n",
    "for m in range(r):\n",
    "    for n in range(c):\n",
    "        print(matrix[m][n], end = ' ')\n",
    "    print()\n",
    "X = matrix\n",
    " \n",
    "r = c =  int(input('Enter the number of rows and columns: '))\n",
    "matrix1 = []\n",
    "print('Enter the entries row-wise: ')\n",
    "for i in range(r):\n",
    "    a = []\n",
    "    for j in range(c):\n",
    "        a.append(int(input()))\n",
    "    matrix1.append(a)\n",
    "for m in range(r):\n",
    "    for n in range(c):\n",
    "        print(matrix1[m][n], end = ' ')\n",
    "    print()\n",
    "Y = matrix1\n",
    "result = [[0, 0, 0],\n",
    "          [0, 0, 0],\n",
    "          [0, 0, 0]]\n",
    "\n",
    "for i in range(len(X)):\n",
    "    for j in range(len(Y[0])):\n",
    "        for k in range(len(Y)):\n",
    "            result[i][j] += X[i][k] * Y[k][j]\n",
    "            \n",
    "for r in result:\n",
    "    print(r)"
   ]
  },
  {
   "cell_type": "code",
   "execution_count": 3,
   "id": "0bb394bf",
   "metadata": {},
   "outputs": [],
   "source": [
    "#3. Write a Python Program to Transpose a Matrix?"
   ]
  },
  {
   "cell_type": "code",
   "execution_count": 30,
   "id": "f5c5527c",
   "metadata": {},
   "outputs": [
    {
     "name": "stdout",
     "output_type": "stream",
     "text": [
      "Enter the number of rows : 2\n",
      "Enter the number of columns : 3\n",
      "Enter the entries row-wise: \n",
      "1\n",
      "2\n",
      "3\n",
      "4\n",
      "5\n",
      "6\n",
      "1 2 3 \n",
      "4 5 6 \n",
      "[1, 4]\n",
      "[2, 5]\n",
      "[3, 6]\n"
     ]
    }
   ],
   "source": [
    "r = int(input('Enter the number of rows : '))\n",
    "c = int(input('Enter the number of columns : '))\n",
    "matrix = []\n",
    "print('Enter the entries row-wise: ')\n",
    "for i in range(r):\n",
    "    a = []\n",
    "    for j in range(c):\n",
    "        a.append(int(input()))\n",
    "    matrix.append(a)\n",
    "for m in range(r):\n",
    "    for n in range(c):\n",
    "        print(matrix[m][n], end = ' ')\n",
    "    print()\n",
    "X = matrix\n",
    "result = []\n",
    "for i in range(c):\n",
    "    a = []\n",
    "    for j in range(r):\n",
    "        a.append(int(0))\n",
    "    result.append(a)\n",
    "for i in range(len(X)):\n",
    "    for j in range(len(X[0])):\n",
    "        result[j][i] = X[i][j]\n",
    "        \n",
    "for r in result:\n",
    "    print(r)"
   ]
  },
  {
   "cell_type": "code",
   "execution_count": 4,
   "id": "69c0a71d",
   "metadata": {},
   "outputs": [],
   "source": [
    "#4. Write a Python Program to Sort Words in Alphabetic Order?"
   ]
  },
  {
   "cell_type": "code",
   "execution_count": 34,
   "id": "47f63983",
   "metadata": {},
   "outputs": [
    {
     "data": {
      "text/plain": [
       "['assignment', 'evaluating', 'for', 'my', 'thanks']"
      ]
     },
     "execution_count": 34,
     "metadata": {},
     "output_type": "execute_result"
    }
   ],
   "source": [
    "def quicksort(lst):\n",
    "    if not lst:\n",
    "        return []\n",
    "    return (quicksort([x for x in lst[1:] if x <  lst[0]])\n",
    "            + [lst[0]] +\n",
    "            quicksort([x for x in lst[1:] if x >= lst[0]]))\n",
    "a = ['thanks','for', 'evaluating', 'my', 'assignment']\n",
    "quicksort(a)"
   ]
  },
  {
   "cell_type": "code",
   "execution_count": null,
   "id": "2e93692a",
   "metadata": {},
   "outputs": [],
   "source": [
    "#5. Write a Python Program to Remove Punctuation From a String?"
   ]
  },
  {
   "cell_type": "code",
   "execution_count": 35,
   "id": "f75bd3d8",
   "metadata": {},
   "outputs": [
    {
     "name": "stdout",
     "output_type": "stream",
     "text": [
      "Enter a string  with a lot of punctuations: 'This, is; a/ string! with: a> lot< of( punctuation* marks#. '\n",
      " This is a string with a lot of punctuation marks \n"
     ]
    }
   ],
   "source": [
    "test = input(\"Enter a string  with a lot of punctuations: \")\n",
    "punctuations = '''!()-[]{};:'\"\\,<>./?@#$%^&*_~'''\n",
    "remove = ' '\n",
    "for i in test:\n",
    "    if i not in punctuations:\n",
    "        remove += i\n",
    "print(remove)"
   ]
  }
 ],
 "metadata": {
  "kernelspec": {
   "display_name": "Python 3 (ipykernel)",
   "language": "python",
   "name": "python3"
  },
  "language_info": {
   "codemirror_mode": {
    "name": "ipython",
    "version": 3
   },
   "file_extension": ".py",
   "mimetype": "text/x-python",
   "name": "python",
   "nbconvert_exporter": "python",
   "pygments_lexer": "ipython3",
   "version": "3.9.12"
  }
 },
 "nbformat": 4,
 "nbformat_minor": 5
}
