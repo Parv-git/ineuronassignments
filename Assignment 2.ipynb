{
 "cells": [
  {
   "cell_type": "code",
   "execution_count": 1,
   "id": "807156bc",
   "metadata": {},
   "outputs": [],
   "source": [
    "'1.What are the two values of the Boolean data type? How do you write them?'"
   ]
  },
  {
   "cell_type": "code",
   "execution_count": null,
   "id": "8fd4dc4e",
   "metadata": {},
   "outputs": [],
   "source": [
    "# Two boolean values are True and False and they are written as:"
   ]
  },
  {
   "cell_type": "code",
   "execution_count": 4,
   "id": "504fad7d",
   "metadata": {},
   "outputs": [
    {
     "data": {
      "text/plain": [
       "True"
      ]
     },
     "execution_count": 4,
     "metadata": {},
     "output_type": "execute_result"
    }
   ],
   "source": [
    "True"
   ]
  },
  {
   "cell_type": "code",
   "execution_count": 21,
   "id": "71388d54",
   "metadata": {},
   "outputs": [
    {
     "data": {
      "text/plain": [
       "bool"
      ]
     },
     "execution_count": 21,
     "metadata": {},
     "output_type": "execute_result"
    }
   ],
   "source": [
    "type(True)"
   ]
  },
  {
   "cell_type": "code",
   "execution_count": 2,
   "id": "55e670f8",
   "metadata": {},
   "outputs": [
    {
     "data": {
      "text/plain": [
       "False"
      ]
     },
     "execution_count": 2,
     "metadata": {},
     "output_type": "execute_result"
    }
   ],
   "source": [
    "False"
   ]
  },
  {
   "cell_type": "code",
   "execution_count": 46,
   "id": "5dbb26e2",
   "metadata": {},
   "outputs": [
    {
     "data": {
      "text/plain": [
       "bool"
      ]
     },
     "execution_count": 46,
     "metadata": {},
     "output_type": "execute_result"
    }
   ],
   "source": [
    "type(False)"
   ]
  },
  {
   "cell_type": "code",
   "execution_count": 2,
   "id": "d2af0fe1",
   "metadata": {},
   "outputs": [],
   "source": [
    "'2. What are the three different types of Boolean operators?'"
   ]
  },
  {
   "cell_type": "code",
   "execution_count": null,
   "id": "f24786ca",
   "metadata": {},
   "outputs": [],
   "source": [
    "#The three different types of Boolean operators are : AND,OR and NOT."
   ]
  },
  {
   "cell_type": "code",
   "execution_count": null,
   "id": "de140782",
   "metadata": {},
   "outputs": [],
   "source": [
    "#AND - Returns true only if both the conditions are true, else false."
   ]
  },
  {
   "cell_type": "code",
   "execution_count": null,
   "id": "43a7c057",
   "metadata": {},
   "outputs": [],
   "source": [
    "a = 10 , b = 20\n",
    "if a > 5 and b > 25 :\n",
    "    print('Hello')"
   ]
  },
  {
   "cell_type": "code",
   "execution_count": null,
   "id": "0baac420",
   "metadata": {},
   "outputs": [],
   "source": [
    "#In the above code, Hello will not be printed"
   ]
  },
  {
   "cell_type": "code",
   "execution_count": null,
   "id": "9526b4a1",
   "metadata": {},
   "outputs": [],
   "source": [
    "#OR - Returns true if any one of the conditions are true.Only false when both conditions are false"
   ]
  },
  {
   "cell_type": "code",
   "execution_count": null,
   "id": "91c1ef9c",
   "metadata": {},
   "outputs": [],
   "source": [
    "a = 10 , b = 20\n",
    "if a > 5 or b > 25 :\n",
    "    print('Hello')"
   ]
  },
  {
   "cell_type": "code",
   "execution_count": null,
   "id": "34da7e2d",
   "metadata": {},
   "outputs": [],
   "source": [
    "#In the above code, Hello will be printed"
   ]
  },
  {
   "cell_type": "code",
   "execution_count": null,
   "id": "4cea7159",
   "metadata": {},
   "outputs": [],
   "source": [
    "#NOT - Returns false if expression is true and returns true if the expression is false"
   ]
  },
  {
   "cell_type": "code",
   "execution_count": 17,
   "id": "0b3ce75f",
   "metadata": {},
   "outputs": [
    {
     "name": "stdout",
     "output_type": "stream",
     "text": [
      "Hello\n"
     ]
    }
   ],
   "source": [
    "a = 10 \n",
    "b = 20\n",
    "if a is not b:\n",
    "    print('Hello')"
   ]
  },
  {
   "cell_type": "code",
   "execution_count": null,
   "id": "4fcf567f",
   "metadata": {},
   "outputs": [],
   "source": [
    "#In the above code, Hello will be printed"
   ]
  },
  {
   "cell_type": "code",
   "execution_count": null,
   "id": "27b58a01",
   "metadata": {},
   "outputs": [],
   "source": [
    "\"\"\"3. Make a list of each Boolean operator's truth tables (i.e. every possible combination of Boolean\n",
    "values for the operator and what it evaluate ).\"\"\""
   ]
  },
  {
   "cell_type": "code",
   "execution_count": null,
   "id": "9e2ee431",
   "metadata": {},
   "outputs": [],
   "source": [
    "                        AND Truth Table\n",
    "\n",
    "           AND           \n",
    "    True   and    True   =       True\n",
    "    True   and    False  =       False\n",
    "    False  and    True   =       False\n",
    "    False  and    False  =       False"
   ]
  },
  {
   "cell_type": "code",
   "execution_count": null,
   "id": "730d0c85",
   "metadata": {},
   "outputs": [],
   "source": [
    "                        OR Truth Table\n",
    "\n",
    "           OR           \n",
    "    True   or    True    =      True\n",
    "    True   or    False   =      True\n",
    "    False  or    True    =      True\n",
    "    False  or    False   =      False"
   ]
  },
  {
   "cell_type": "code",
   "execution_count": null,
   "id": "ad66cd0f",
   "metadata": {},
   "outputs": [],
   "source": [
    "'4. What are the values of the following expressions?"
   ]
  },
  {
   "cell_type": "code",
   "execution_count": 10,
   "id": "80f95330",
   "metadata": {},
   "outputs": [],
   "source": [
    "#(5 > 4) and (3 == 5)\n",
    "#not (5 > 4)\n",
    "#(5 > 4) or (3 == 5)\n",
    "##not ((5 > 4) or (3 == 5))\n",
    "#(True and True) and (True == False)\n",
    "#(not False) or (not True)"
   ]
  },
  {
   "cell_type": "code",
   "execution_count": 22,
   "id": "1b8117fc",
   "metadata": {},
   "outputs": [
    {
     "data": {
      "text/plain": [
       "False"
      ]
     },
     "execution_count": 22,
     "metadata": {},
     "output_type": "execute_result"
    }
   ],
   "source": [
    "(5 > 4) and (3 == 5)"
   ]
  },
  {
   "cell_type": "code",
   "execution_count": 27,
   "id": "014441cc",
   "metadata": {},
   "outputs": [
    {
     "data": {
      "text/plain": [
       "False"
      ]
     },
     "execution_count": 27,
     "metadata": {},
     "output_type": "execute_result"
    }
   ],
   "source": [
    "not (5 > 4)"
   ]
  },
  {
   "cell_type": "code",
   "execution_count": 26,
   "id": "62d3b838",
   "metadata": {},
   "outputs": [
    {
     "data": {
      "text/plain": [
       "True"
      ]
     },
     "execution_count": 26,
     "metadata": {},
     "output_type": "execute_result"
    }
   ],
   "source": [
    "(5 > 4) or (3 == 5)"
   ]
  },
  {
   "cell_type": "code",
   "execution_count": 25,
   "id": "4854625f",
   "metadata": {},
   "outputs": [
    {
     "data": {
      "text/plain": [
       "False"
      ]
     },
     "execution_count": 25,
     "metadata": {},
     "output_type": "execute_result"
    }
   ],
   "source": [
    "not ((5 > 4) or (3 == 5))"
   ]
  },
  {
   "cell_type": "code",
   "execution_count": 24,
   "id": "36c58700",
   "metadata": {},
   "outputs": [
    {
     "data": {
      "text/plain": [
       "False"
      ]
     },
     "execution_count": 24,
     "metadata": {},
     "output_type": "execute_result"
    }
   ],
   "source": [
    "(True and True) and (True == False)"
   ]
  },
  {
   "cell_type": "code",
   "execution_count": 23,
   "id": "b7b968a6",
   "metadata": {},
   "outputs": [
    {
     "data": {
      "text/plain": [
       "True"
      ]
     },
     "execution_count": 23,
     "metadata": {},
     "output_type": "execute_result"
    }
   ],
   "source": [
    "(not False) or (not True)"
   ]
  },
  {
   "cell_type": "code",
   "execution_count": 11,
   "id": "e29d295b",
   "metadata": {},
   "outputs": [],
   "source": [
    "'5. What are the six comparison operators?'"
   ]
  },
  {
   "cell_type": "code",
   "execution_count": null,
   "id": "ee4515cb",
   "metadata": {},
   "outputs": [],
   "source": [
    "#1.  == - This is an equals to operator"
   ]
  },
  {
   "cell_type": "code",
   "execution_count": null,
   "id": "b3298e20",
   "metadata": {},
   "outputs": [],
   "source": [
    "#2.  >  - This is a more than or greater than operator"
   ]
  },
  {
   "cell_type": "code",
   "execution_count": null,
   "id": "62badc41",
   "metadata": {},
   "outputs": [],
   "source": [
    "#3.  <  - This is a lesser than operator"
   ]
  },
  {
   "cell_type": "code",
   "execution_count": null,
   "id": "0615dec8",
   "metadata": {},
   "outputs": [],
   "source": [
    "#4.  >= - This is a more than equals to operator"
   ]
  },
  {
   "cell_type": "code",
   "execution_count": null,
   "id": "e3828e29",
   "metadata": {},
   "outputs": [],
   "source": [
    "#5.  <= - This is a less than equals to operator"
   ]
  },
  {
   "cell_type": "code",
   "execution_count": null,
   "id": "6164cff3",
   "metadata": {},
   "outputs": [],
   "source": [
    "#6.  != - This is not equals to operator"
   ]
  },
  {
   "cell_type": "code",
   "execution_count": null,
   "id": "ee561775",
   "metadata": {},
   "outputs": [],
   "source": [
    "\"\"\"6. How do you tell the difference between the equal to and assignment operators?Describe a\n",
    "condition and when you would use one.\"\"\""
   ]
  },
  {
   "cell_type": "code",
   "execution_count": null,
   "id": "dea6bf8b",
   "metadata": {},
   "outputs": [],
   "source": [
    "'''Equal to operator and assignment operator uses the same symbol(=), however the assignment operator uses this symbol \n",
    "   only once(=) and the equal to operator uses this symbol twice(==)'''"
   ]
  },
  {
   "cell_type": "code",
   "execution_count": null,
   "id": "788b8539",
   "metadata": {},
   "outputs": [],
   "source": [
    "a = 10 #Assignment operator\n",
    "if a == 52: #Equal to operator\n",
    "    print('Hello World!')"
   ]
  },
  {
   "cell_type": "code",
   "execution_count": null,
   "id": "acb073d3",
   "metadata": {},
   "outputs": [],
   "source": [
    "\"\"\"7. Identify the three blocks in this code:\n",
    "spam = 0\n",
    "if spam == 10:\n",
    "print('eggs')\n",
    "if spam > 5:\n",
    "print('bacon')\n",
    "else:\n",
    "print('ham')\n",
    "print('spam')\n",
    "print('spam')\n",
    "\"\"\""
   ]
  },
  {
   "cell_type": "code",
   "execution_count": null,
   "id": "12ffca50",
   "metadata": {},
   "outputs": [],
   "source": [
    "\"\"\"The three blocks in this code are:\n",
    "spam = 0\n",
    "if spam == 10: #First if block\n",
    "print('eggs')\n",
    "if spam > 5:   #Second if block\n",
    "print('bacon')\n",
    "else:          #Else Block\n",
    "print('ham')\n",
    "print('spam')\n",
    "print('spam')\n",
    "\n",
    "\"\"\""
   ]
  },
  {
   "cell_type": "code",
   "execution_count": null,
   "id": "5be4622d",
   "metadata": {},
   "outputs": [],
   "source": [
    "\"\"\"8. Write code that prints Hello if 1 is stored in spam, prints Howdy if 2 is stored in spam, and prints\n",
    "Greetings! if anything else is stored in spam.\"\"\""
   ]
  },
  {
   "cell_type": "code",
   "execution_count": 32,
   "id": "86e5d5f1",
   "metadata": {},
   "outputs": [
    {
     "name": "stdout",
     "output_type": "stream",
     "text": [
      "Enter the value of spam: 5\n",
      "Greetings!\n"
     ]
    }
   ],
   "source": [
    "spam = input('Enter the value of spam: ')\n",
    "\n",
    "if spam == '1':\n",
    "    print('Hello')\n",
    "elif spam == '2':\n",
    "    print(\"Howdy\")\n",
    "else:\n",
    "    print('Greetings!')"
   ]
  },
  {
   "cell_type": "code",
   "execution_count": null,
   "id": "1598bd71",
   "metadata": {},
   "outputs": [],
   "source": [
    "'9.If your programme is stuck in an endless loop, what keys you’ll press?'"
   ]
  },
  {
   "cell_type": "code",
   "execution_count": null,
   "id": "8b64996e",
   "metadata": {},
   "outputs": [],
   "source": [
    "'We will use CTRL+C and give a Keyboard interrupt to break out of the infinite loop'"
   ]
  },
  {
   "cell_type": "code",
   "execution_count": null,
   "id": "50a2f7fc",
   "metadata": {},
   "outputs": [],
   "source": [
    "'10. How can you tell the difference between break and continue?'"
   ]
  },
  {
   "cell_type": "code",
   "execution_count": null,
   "id": "3af12772",
   "metadata": {},
   "outputs": [],
   "source": [
    "'Break statement will break us out of a loop where as continue statement will keep us in the loop'"
   ]
  },
  {
   "cell_type": "code",
   "execution_count": 37,
   "id": "7a602bf9",
   "metadata": {},
   "outputs": [
    {
     "name": "stdout",
     "output_type": "stream",
     "text": [
      "1\n",
      "2\n",
      "3\n",
      "4\n",
      "5\n",
      "6\n",
      "7\n",
      "8\n",
      "9\n",
      "10\n",
      "11\n"
     ]
    }
   ],
   "source": [
    "a = 1\n",
    "while a < 100:\n",
    "    if a <=10:\n",
    "        print(a)\n",
    "        a = a + 1\n",
    "        continue\n",
    "    elif a > 10:\n",
    "        print(a)\n",
    "        break"
   ]
  },
  {
   "cell_type": "code",
   "execution_count": null,
   "id": "af576edc",
   "metadata": {},
   "outputs": [],
   "source": [
    "'11. In a for loop, what is the difference between range(10), range(0, 10), and range(0, 10, 1)?'"
   ]
  },
  {
   "cell_type": "code",
   "execution_count": null,
   "id": "0105d61e",
   "metadata": {},
   "outputs": [],
   "source": [
    "'''As the syntax of range function range(start, stop, step), range function takes three parameters out of which two parameters\n",
    "(start and step) are optionals.\n",
    "Start parameter is an integer number specifying at which position to start. Default is 0\n",
    "Stop parameter is a required parameter which is an integer number specifying at which position to stop (the number itself is not included).\n",
    "Step parameter is Optional. It is an integer number specifying the incrementation. Default is 1"
   ]
  },
  {
   "cell_type": "code",
   "execution_count": 38,
   "id": "44a89d8d",
   "metadata": {},
   "outputs": [
    {
     "name": "stdout",
     "output_type": "stream",
     "text": [
      "0\n",
      "1\n",
      "2\n",
      "3\n",
      "4\n",
      "5\n",
      "6\n",
      "7\n",
      "8\n",
      "9\n"
     ]
    }
   ],
   "source": [
    "for i in range(10):\n",
    "    print(i)"
   ]
  },
  {
   "cell_type": "code",
   "execution_count": 39,
   "id": "57d343df",
   "metadata": {},
   "outputs": [
    {
     "name": "stdout",
     "output_type": "stream",
     "text": [
      "0\n",
      "1\n",
      "2\n",
      "3\n",
      "4\n",
      "5\n",
      "6\n",
      "7\n",
      "8\n",
      "9\n"
     ]
    }
   ],
   "source": [
    "for i in range(0,10):\n",
    "    print(i)"
   ]
  },
  {
   "cell_type": "code",
   "execution_count": 40,
   "id": "b424ac72",
   "metadata": {},
   "outputs": [
    {
     "name": "stdout",
     "output_type": "stream",
     "text": [
      "0\n",
      "1\n",
      "2\n",
      "3\n",
      "4\n",
      "5\n",
      "6\n",
      "7\n",
      "8\n",
      "9\n"
     ]
    }
   ],
   "source": [
    "for i in range(0,10,1):\n",
    "    print(i)"
   ]
  },
  {
   "cell_type": "code",
   "execution_count": null,
   "id": "4ea879b9",
   "metadata": {},
   "outputs": [],
   "source": [
    "'''12. Write a short program that prints the numbers 1 to 10 using a for loop. Then write an equivalent\n",
    "program that prints the numbers 1 to 10 using a while loop.'''"
   ]
  },
  {
   "cell_type": "code",
   "execution_count": 45,
   "id": "3307b17d",
   "metadata": {},
   "outputs": [
    {
     "name": "stdout",
     "output_type": "stream",
     "text": [
      "1\n",
      "2\n",
      "3\n",
      "4\n",
      "5\n",
      "6\n",
      "7\n",
      "8\n",
      "9\n",
      "10\n"
     ]
    }
   ],
   "source": [
    "for i in range(0,10):\n",
    "    print(i+1)"
   ]
  },
  {
   "cell_type": "code",
   "execution_count": 43,
   "id": "800683a0",
   "metadata": {},
   "outputs": [
    {
     "name": "stdout",
     "output_type": "stream",
     "text": [
      "1\n",
      "2\n",
      "3\n",
      "4\n",
      "5\n",
      "6\n",
      "7\n",
      "8\n",
      "9\n",
      "10\n"
     ]
    }
   ],
   "source": [
    "i = 0\n",
    "while i < 10:\n",
    "    print(i+1)\n",
    "    i = i+1"
   ]
  },
  {
   "cell_type": "code",
   "execution_count": null,
   "id": "2bfcafd9",
   "metadata": {},
   "outputs": [],
   "source": [
    "'''13. If you had a function named bacon() inside a module named spam, how would you call it after\n",
    "importing spam?'''"
   ]
  },
  {
   "cell_type": "code",
   "execution_count": null,
   "id": "a4ce65cf",
   "metadata": {},
   "outputs": [],
   "source": [
    "'We can call the function after importing spam module as spam.bacon()'"
   ]
  },
  {
   "cell_type": "code",
   "execution_count": null,
   "id": "ed4d0b5a",
   "metadata": {},
   "outputs": [],
   "source": [
    "import spam\n",
    "s = spam.bacon()\n",
    "print(spam.bacon)"
   ]
  }
 ],
 "metadata": {
  "kernelspec": {
   "display_name": "Python 3 (ipykernel)",
   "language": "python",
   "name": "python3"
  },
  "language_info": {
   "codemirror_mode": {
    "name": "ipython",
    "version": 3
   },
   "file_extension": ".py",
   "mimetype": "text/x-python",
   "name": "python",
   "nbconvert_exporter": "python",
   "pygments_lexer": "ipython3",
   "version": "3.9.12"
  }
 },
 "nbformat": 4,
 "nbformat_minor": 5
}
