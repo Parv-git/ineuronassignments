{
 "cells": [
  {
   "cell_type": "code",
   "execution_count": null,
   "id": "4c7a61bc",
   "metadata": {},
   "outputs": [],
   "source": [
    "#1. Write a Python program to convert kilometers to miles?"
   ]
  },
  {
   "cell_type": "code",
   "execution_count": 5,
   "id": "8d180c89",
   "metadata": {},
   "outputs": [
    {
     "name": "stdout",
     "output_type": "stream",
     "text": [
      "Enter A to convert Km to Miles Or B to convert Miles to Km: b\n",
      "Enter Miles :3\n",
      "There are 4.828032 kilometers in 3.0 miles.\n"
     ]
    }
   ],
   "source": [
    "n = input('Enter A to convert Km to Miles Or B to convert Miles to Km: ')\n",
    "if n =='A' or n == 'a':\n",
    "    k = float(input('Enter Kms : '))\n",
    "    j = k/(1.609344)\n",
    "    print(f'There are {j} miles in {k} kilometers.')\n",
    "elif n =='B' or n =='b':\n",
    "    m = float(input('Enter Miles :'))\n",
    "    i = m*(1.609344)\n",
    "    print(f'There are {i} kilometers in {m} miles.')\n"
   ]
  },
  {
   "cell_type": "code",
   "execution_count": null,
   "id": "d94b0752",
   "metadata": {},
   "outputs": [],
   "source": [
    "#2. Write a Python program to convert Celsius to Fahrenheit?"
   ]
  },
  {
   "cell_type": "code",
   "execution_count": 8,
   "id": "5e16e651",
   "metadata": {},
   "outputs": [
    {
     "name": "stdout",
     "output_type": "stream",
     "text": [
      "Enter A to convert Fahrenheit to Celsius Or B to convert Celsius to Fahrenheit: a\n",
      "Enter Fahrenheit : 68\n",
      "There are 20.0 Celsius in 68.0 Fahrenheit.\n"
     ]
    }
   ],
   "source": [
    "x = input('Enter A to convert Fahrenheit to Celsius Or B to convert Celsius to Fahrenheit: ')\n",
    "if x =='A' or x == 'a':\n",
    "    k = float(input('Enter Fahrenheit : '))\n",
    "    j = ((k-32)*5)/9\n",
    "    print(f'There are {j} Celsius in {k} Fahrenheit.')\n",
    "elif x =='B' or x =='b':\n",
    "    m = float(input('Enter Celsius :'))\n",
    "    i = (m*1.8)+32\n",
    "    print(f'There are {i} Fahrenheit in {m} Celsius.')"
   ]
  },
  {
   "cell_type": "code",
   "execution_count": null,
   "id": "cf8977f7",
   "metadata": {},
   "outputs": [],
   "source": [
    "#3. Write a Python program to display calendar?"
   ]
  },
  {
   "cell_type": "code",
   "execution_count": 6,
   "id": "c5176e93",
   "metadata": {},
   "outputs": [
    {
     "name": "stdout",
     "output_type": "stream",
     "text": [
      "Enter the year :2022\n",
      "Enter the month:7\n",
      "     July 2022\n",
      "Mo Tu We Th Fr Sa Su\n",
      "             1  2  3\n",
      " 4  5  6  7  8  9 10\n",
      "11 12 13 14 15 16 17\n",
      "18 19 20 21 22 23 24\n",
      "25 26 27 28 29 30 31\n",
      "\n"
     ]
    }
   ],
   "source": [
    "import calendar\n",
    "\n",
    "year  = int(input('Enter the year :'))\n",
    "month = int(input('Enter the month:'))\n",
    "\n",
    "mycal = calendar.month(year,month)\n",
    "\n",
    "print(mycal)"
   ]
  },
  {
   "cell_type": "code",
   "execution_count": null,
   "id": "59b36f19",
   "metadata": {},
   "outputs": [],
   "source": [
    "#4. Write a Python program to solve quadratic equation?"
   ]
  },
  {
   "cell_type": "code",
   "execution_count": 3,
   "id": "e8b3f87e",
   "metadata": {},
   "outputs": [
    {
     "name": "stdout",
     "output_type": "stream",
     "text": [
      "Quadratic equation is written as ax**2 + bx + c = 0 with a != 0\n",
      "Enter the value of a: 1\n",
      "Enter the value of b: 4\n",
      "Enter the value of c: 5\n",
      "Results for equation 1x**2 + 4x + 5 = 0, are :- \n",
      "Type of Roots : Two Complex Roots\n",
      "The solutions for the equations are : (-2-1j), (2+1j)\n"
     ]
    }
   ],
   "source": [
    "import cmath\n",
    "print('Quadratic equation is written as ax**2 + bx + c = 0 with a != 0')\n",
    "a =int(input('Enter the value of a: '))\n",
    "b =int(input('Enter the value of b: '))\n",
    "c =int(input('Enter the value of c: '))\n",
    "d = (b**2) - (4*a*c)\n",
    "ans1 = ((-b - cmath.sqrt(d))/(2*a))\n",
    "ans2 = (( b + cmath.sqrt(d))/(2*a))\n",
    "print(f'Results for equation {a}x**2 + {b}x + {c} = 0, are :- ')\n",
    "if d >0:\n",
    "    print('Type of Roots : Two Distinct Real Roots')\n",
    "elif d == 0:\n",
    "    print('Type of Roots : Two Equal Real Roots')\n",
    "elif d <0:\n",
    "    print('Type of Roots : Two Complex Roots')\n",
    "print(f'The solutions for the equations are : {ans1}, {ans2}')"
   ]
  },
  {
   "cell_type": "code",
   "execution_count": null,
   "id": "35f57cc6",
   "metadata": {},
   "outputs": [],
   "source": [
    "#5. Write a Python program to swap two variables without temp variable?"
   ]
  },
  {
   "cell_type": "code",
   "execution_count": 1,
   "id": "7aa39056",
   "metadata": {},
   "outputs": [
    {
     "name": "stdout",
     "output_type": "stream",
     "text": [
      "Enter value of A : 1\n",
      "Enter value of B : 2\n",
      "Before Swapping\n",
      "The value of A is 1 \n",
      "The value of B is 2 \n",
      "After Swapping\n",
      "The value of A is 2 \n",
      "The value of B is 1 \n"
     ]
    }
   ],
   "source": [
    "a = input('Enter value of A : ')\n",
    "b = input('Enter value of B : ')\n",
    "print('Before Swapping')\n",
    "print(f'The value of A is {a} ')\n",
    "print(f'The value of B is {b} ')\n",
    "a , b = b , a\n",
    "print('After Swapping')\n",
    "print(f'The value of A is {a} ')\n",
    "print(f'The value of B is {b} ')"
   ]
  }
 ],
 "metadata": {
  "kernelspec": {
   "display_name": "Python 3 (ipykernel)",
   "language": "python",
   "name": "python3"
  },
  "language_info": {
   "codemirror_mode": {
    "name": "ipython",
    "version": 3
   },
   "file_extension": ".py",
   "mimetype": "text/x-python",
   "name": "python",
   "nbconvert_exporter": "python",
   "pygments_lexer": "ipython3",
   "version": "3.9.12"
  }
 },
 "nbformat": 4,
 "nbformat_minor": 5
}
