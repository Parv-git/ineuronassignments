{
 "cells": [
  {
   "cell_type": "code",
   "execution_count": 1,
   "id": "b36c694a",
   "metadata": {},
   "outputs": [],
   "source": [
    "#1. Write a Python Program to find sum of array?"
   ]
  },
  {
   "cell_type": "code",
   "execution_count": 13,
   "id": "f61c4f4b",
   "metadata": {},
   "outputs": [
    {
     "name": "stdout",
     "output_type": "stream",
     "text": [
      "Enter the number of elements of an array: 5\n",
      "Enter the value of 1 element : 1\n",
      "Enter the value of 2 element : 2\n",
      "Enter the value of 3 element : 5\n",
      "Enter the value of 4 element : 5\n",
      "Enter the value of 5 element : 5\n",
      "The sum of given array [1, 2, 5, 5, 5] is 18\n"
     ]
    }
   ],
   "source": [
    "x = []\n",
    "n = int(input('Enter the number of elements of an array: '))\n",
    "for i in range(1,n+1):\n",
    "    a = int(input(f'Enter the value of {i} element : '))\n",
    "    x.append(a)\n",
    "m = 0\n",
    "for j in x:\n",
    "    m += j    \n",
    "print(f'The sum of given array {x} is {m}')  "
   ]
  },
  {
   "cell_type": "code",
   "execution_count": 2,
   "id": "68f6c16c",
   "metadata": {},
   "outputs": [],
   "source": [
    "#2. Write a Python Program to find largest element in an array?"
   ]
  },
  {
   "cell_type": "code",
   "execution_count": 17,
   "id": "40c46269",
   "metadata": {},
   "outputs": [
    {
     "name": "stdout",
     "output_type": "stream",
     "text": [
      "Enter the number of elements of an array: 6\n",
      "Enter the value of 1 element : 1\n",
      "Enter the value of 2 element : 2\n",
      "Enter the value of 3 element : 3\n",
      "Enter the value of 4 element : 6\n",
      "Enter the value of 5 element : 5\n",
      "Enter the value of 6 element : 4\n",
      "The greatest element in array [1, 2, 3, 6, 5, 4] is 6\n"
     ]
    }
   ],
   "source": [
    "x = []\n",
    "m = 0\n",
    "n = int(input('Enter the number of elements of an array: '))\n",
    "for i in range(1,n+1):\n",
    "    a = int(input(f'Enter the value of {i} element : '))\n",
    "    x.append(a)\n",
    "for j in x:\n",
    "    m = j\n",
    "    for u in x:\n",
    "        if u > m:\n",
    "            m = u\n",
    "print(f'The greatest element in array {x} is {m}')"
   ]
  },
  {
   "cell_type": "code",
   "execution_count": 3,
   "id": "1553eb97",
   "metadata": {},
   "outputs": [],
   "source": [
    "#3. Write a Python Program for array rotation?"
   ]
  },
  {
   "cell_type": "code",
   "execution_count": 17,
   "id": "967d9f00",
   "metadata": {},
   "outputs": [
    {
     "name": "stdout",
     "output_type": "stream",
     "text": [
      "Enter the number of elements of an array: 5\n",
      "Enter the value of 1 element : 10\n",
      "Enter the value of 2 element : 20\n",
      "Enter the value of 3 element : 30\n",
      "Enter the value of 4 element : 40\n",
      "Enter the value of 5 element : 50\n",
      "[10, 20, 30, 40, 50]\n",
      "Enter the number by which you want to rotate the array:2\n",
      "Your given array is :  [10, 20, 30, 40, 50]\n",
      "The array after rotating as per your given input :  [30, 40, 50, 10, 20]\n"
     ]
    }
   ],
   "source": [
    "x  = []\n",
    "y = []\n",
    "p1 = []\n",
    "p2 = []\n",
    "n = int(input('Enter the number of elements of an array: '))\n",
    "for i in range(1,n+1):\n",
    "    a = int(input(f'Enter the value of {i} element : '))\n",
    "    x.append(a)\n",
    "    \n",
    "print(x)\n",
    "d = int(input('Enter the number by which you want to rotate the array:'))\n",
    "for j in range(0,d):\n",
    "    y.append(x[j])\n",
    "for k in range(d,n):\n",
    "    p1.append(x[k])\n",
    "for l in range(0,d):\n",
    "    p1.append(y[l])\n",
    "\n",
    "print('Your given array is : ',x)\n",
    "print('The array after rotating as per your given input : ',p1)\n",
    "\n"
   ]
  },
  {
   "cell_type": "code",
   "execution_count": 4,
   "id": "8232669c",
   "metadata": {},
   "outputs": [],
   "source": [
    "#4. Write a Python Program to Split the array and add the first part to the end?"
   ]
  },
  {
   "cell_type": "code",
   "execution_count": 22,
   "id": "7711bedc",
   "metadata": {},
   "outputs": [
    {
     "name": "stdout",
     "output_type": "stream",
     "text": [
      "Enter the number of elements of an array: 5\n",
      "Enter the value of 1 element : 1\n",
      "Enter the value of 2 element : 2\n",
      "Enter the value of 3 element : 3\n",
      "Enter the value of 4 element : 4\n",
      "Enter the value of 5 element : 5\n",
      "The given array is [1, 2, 3, 4, 5]\n",
      "The array is then reversed as [5, 4, 3, 2, 1]\n",
      "The half of given array and half of reversed array is then append to a new array as per the given conditions \n",
      " [5, 4, 3, 1, 2]\n"
     ]
    }
   ],
   "source": [
    "x = []\n",
    "y = []\n",
    "z = []\n",
    "\n",
    "n = int(input('Enter the number of elements of an array: '))\n",
    "for i in range(1,n+1):\n",
    "    a = int(input(f'Enter the value of {i} element : '))\n",
    "    x.append(a)\n",
    "y = x[::-1]\n",
    "p = int(len(x)/2)\n",
    "q = p\n",
    "if len(x)%2==1:\n",
    "    for m in range(0,p+1):\n",
    "        z.append(y[m])\n",
    "else:\n",
    "    for m in range(0,p):\n",
    "        z.append(y[m])\n",
    "for n in range(0,q):\n",
    "    z.append(x[n])\n",
    "    \n",
    "print(f'The given array is {x}')\n",
    "print(f'The array is then reversed as {y}')\n",
    "print(f'The half of given array and half of reversed array is then append to a new array to satisfy the given conditions \\n {z}')"
   ]
  },
  {
   "cell_type": "code",
   "execution_count": null,
   "id": "dea7d90b",
   "metadata": {},
   "outputs": [],
   "source": [
    "#5. Write a Python Program to check if given array is Monotonic?"
   ]
  },
  {
   "cell_type": "code",
   "execution_count": 10,
   "id": "7b6036cd",
   "metadata": {},
   "outputs": [
    {
     "name": "stdout",
     "output_type": "stream",
     "text": [
      "Enter the number of elements of an array: 5\n",
      "Enter the value of 1 element : 1\n",
      "Enter the value of 2 element : 1\n",
      "Enter the value of 3 element : 1\n",
      "Enter the value of 4 element : 1\n",
      "Enter the value of 5 element : 1\n",
      "[1, 1, 1, 1, 1]\n",
      "Your array [1, 1, 1, 1, 1] is monotonic.\n"
     ]
    }
   ],
   "source": [
    "x = []\n",
    "n = int(input('Enter the number of elements of an array: '))\n",
    "for i in range(1,n+1):\n",
    "    a = int(input(f'Enter the value of {i} element : '))\n",
    "    x.append(a)\n",
    "print(x)    \n",
    "if all(x[i]>=x[i+1] for i in range(0,n-1) or x[i]<=x[i+1] for i in range(0,n-1)):\n",
    "    print(f'Your array {x} is monotonic.')\n",
    "else:\n",
    "    print(f'Your array {x} is not monotonic.')\n"
   ]
  }
 ],
 "metadata": {
  "kernelspec": {
   "display_name": "Python 3 (ipykernel)",
   "language": "python",
   "name": "python3"
  },
  "language_info": {
   "codemirror_mode": {
    "name": "ipython",
    "version": 3
   },
   "file_extension": ".py",
   "mimetype": "text/x-python",
   "name": "python",
   "nbconvert_exporter": "python",
   "pygments_lexer": "ipython3",
   "version": "3.9.12"
  }
 },
 "nbformat": 4,
 "nbformat_minor": 5
}
