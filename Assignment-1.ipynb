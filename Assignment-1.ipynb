{
 "cells": [
  {
   "cell_type": "code",
   "execution_count": 18,
   "id": "8e00dc1b",
   "metadata": {},
   "outputs": [
    {
     "data": {
      "text/plain": [
       "\"1. In the below elements which of them are values or an expression? eg:- values can be\\ninteger or string and expressions will be mathematical operators.\\n\\n*             \\n'hello'\\n-87.8\\n-\\n/\\n+\\n6\""
      ]
     },
     "execution_count": 18,
     "metadata": {},
     "output_type": "execute_result"
    }
   ],
   "source": [
    "\"\"\"1. In the below elements which of them are values or an expression? eg:- values can be\n",
    "integer or string and expressions will be mathematical operators.\n",
    "\n",
    "*             \n",
    "'hello'\n",
    "-87.8\n",
    "-\n",
    "/\n",
    "+\n",
    "6\"\"\""
   ]
  },
  {
   "cell_type": "code",
   "execution_count": 19,
   "id": "a0e41bdd",
   "metadata": {},
   "outputs": [],
   "source": [
    " #'hello' is a string value "
   ]
  },
  {
   "cell_type": "code",
   "execution_count": 20,
   "id": "81a1d02b",
   "metadata": {},
   "outputs": [],
   "source": [
    "#-87.8 is a floating value"
   ]
  },
  {
   "cell_type": "code",
   "execution_count": 21,
   "id": "975b1efe",
   "metadata": {},
   "outputs": [],
   "source": [
    "#+ Since its a mathematical operator, its an expression."
   ]
  },
  {
   "cell_type": "code",
   "execution_count": 22,
   "id": "34a3ffab",
   "metadata": {},
   "outputs": [],
   "source": [
    "#6 is an integer value"
   ]
  },
  {
   "cell_type": "code",
   "execution_count": 23,
   "id": "31643faa",
   "metadata": {},
   "outputs": [],
   "source": [
    "#2. What is the difference between string and variable?"
   ]
  },
  {
   "cell_type": "code",
   "execution_count": 24,
   "id": "f5280aac",
   "metadata": {},
   "outputs": [],
   "source": [
    "#Variables are like containers which are used to store data inside themselves. The data inside a variable can be of string, integer, float or set type which are known as datatype of a variable."
   ]
  },
  {
   "cell_type": "code",
   "execution_count": 25,
   "id": "b545acd7",
   "metadata": {},
   "outputs": [],
   "source": [
    "#String is a data type which is used to define some sort of text or character."
   ]
  },
  {
   "cell_type": "code",
   "execution_count": 26,
   "id": "2e3097d6",
   "metadata": {},
   "outputs": [],
   "source": [
    "#3. Describe three different data types."
   ]
  },
  {
   "cell_type": "code",
   "execution_count": 27,
   "id": "aa76838a",
   "metadata": {},
   "outputs": [],
   "source": [
    "#Three different data types are string, integer, and float."
   ]
  },
  {
   "cell_type": "code",
   "execution_count": 29,
   "id": "aac1cfd7",
   "metadata": {},
   "outputs": [
    {
     "data": {
      "text/plain": [
       "'String is a data type which text or characters are stored.Strings are arrays of bytes representing Unicode characters. A string is a collection of one or more characters put in a single quote, double-quote or triple quote. In python there is no character data type, a character is a string of length one. It is represented by str class.\\nExample:'"
      ]
     },
     "execution_count": 29,
     "metadata": {},
     "output_type": "execute_result"
    }
   ],
   "source": [
    "\"\"\"String is a data type which text or characters are stored.Strings are arrays of bytes representing Unicode characters. A string is a collection of one or more characters put in a single quote, double-quote or triple quote. In python there is no character data type, a character is a string of length one. It is represented by str class.\n",
    "Example:\"\"\""
   ]
  },
  {
   "cell_type": "code",
   "execution_count": 30,
   "id": "4ebf2d8d",
   "metadata": {},
   "outputs": [],
   "source": [
    "x = 'Hello World'"
   ]
  },
  {
   "cell_type": "code",
   "execution_count": 31,
   "id": "1aa4b2cc",
   "metadata": {},
   "outputs": [
    {
     "data": {
      "text/plain": [
       "str"
      ]
     },
     "execution_count": 31,
     "metadata": {},
     "output_type": "execute_result"
    }
   ],
   "source": [
    "type(x)"
   ]
  },
  {
   "cell_type": "code",
   "execution_count": 32,
   "id": "e4329cdf",
   "metadata": {},
   "outputs": [
    {
     "data": {
      "text/plain": [
       "'Integer is a data type which numerical values are stored.This value is represented by int class. It contains positive or negative whole numbers (without fraction or decimal). In Python there is no limit to how long an integer value can be.\\nExample:'"
      ]
     },
     "execution_count": 32,
     "metadata": {},
     "output_type": "execute_result"
    }
   ],
   "source": [
    "\"\"\"Integer is a data type which numerical values are stored.This value is represented by int class. It contains positive or negative whole numbers (without fraction or decimal). In Python there is no limit to how long an integer value can be.\n",
    "Example:\"\"\""
   ]
  },
  {
   "cell_type": "code",
   "execution_count": 33,
   "id": "dc974157",
   "metadata": {},
   "outputs": [],
   "source": [
    "y = 10"
   ]
  },
  {
   "cell_type": "code",
   "execution_count": 34,
   "id": "53d32009",
   "metadata": {},
   "outputs": [
    {
     "data": {
      "text/plain": [
       "int"
      ]
     },
     "execution_count": 34,
     "metadata": {},
     "output_type": "execute_result"
    }
   ],
   "source": [
    "type(y)"
   ]
  },
  {
   "cell_type": "code",
   "execution_count": 35,
   "id": "2f9efaad",
   "metadata": {},
   "outputs": [
    {
     "data": {
      "text/plain": [
       "'Float is a data type in which the value is represented by float class. It is a real number with floating point representation. It is specified by a decimal point.\\nExample:'"
      ]
     },
     "execution_count": 35,
     "metadata": {},
     "output_type": "execute_result"
    }
   ],
   "source": [
    "\"\"\"Float is a data type in which the value is represented by float class. It is a real number with floating point representation. It is specified by a decimal point.\n",
    "Example:\"\"\""
   ]
  },
  {
   "cell_type": "code",
   "execution_count": 36,
   "id": "c72d737d",
   "metadata": {},
   "outputs": [],
   "source": [
    "z = 20.22"
   ]
  },
  {
   "cell_type": "code",
   "execution_count": 37,
   "id": "83272d02",
   "metadata": {},
   "outputs": [
    {
     "data": {
      "text/plain": [
       "float"
      ]
     },
     "execution_count": 37,
     "metadata": {},
     "output_type": "execute_result"
    }
   ],
   "source": [
    "type(z)"
   ]
  },
  {
   "cell_type": "code",
   "execution_count": 38,
   "id": "1216dd26",
   "metadata": {},
   "outputs": [],
   "source": [
    "#4. What is an expression made up of? What do all expressions do?"
   ]
  },
  {
   "cell_type": "code",
   "execution_count": 39,
   "id": "e06ecd72",
   "metadata": {},
   "outputs": [],
   "source": [
    "#An expression is any legal combination of symbols that represents a value. An expression is a combination of operators and operands that is interprated to produce some other value."
   ]
  },
  {
   "cell_type": "code",
   "execution_count": 40,
   "id": "0e823871",
   "metadata": {},
   "outputs": [],
   "source": [
    "#Expressions are representations of value. "
   ]
  },
  {
   "cell_type": "code",
   "execution_count": 42,
   "id": "5fe0cc1d",
   "metadata": {},
   "outputs": [
    {
     "data": {
      "text/plain": [
       "'5. This assignment statements, like spam = 10. What is the difference between an\\nexpression and a statement?'"
      ]
     },
     "execution_count": 42,
     "metadata": {},
     "output_type": "execute_result"
    }
   ],
   "source": [
    "\"\"\"5. This assignment statements, like spam = 10. What is the difference between an\n",
    "expression and a statement?\"\"\""
   ]
  },
  {
   "cell_type": "code",
   "execution_count": 43,
   "id": "599aeabd",
   "metadata": {},
   "outputs": [],
   "source": [
    "#The basic difference between a statement and an expression is that an expression gives an output whereas a statement is a standalone unit which will not give any output. To say in laymen terms we can say that expressions do something while  are representations of values. Also we should keep in mind that all expressions are statements but not all statements are expressions. "
   ]
  },
  {
   "cell_type": "code",
   "execution_count": 44,
   "id": "f5769e44",
   "metadata": {},
   "outputs": [],
   "source": [
    "spam = 10    #This is an expression and an assignment statement"
   ]
  },
  {
   "cell_type": "code",
   "execution_count": 45,
   "id": "0557b7b1",
   "metadata": {},
   "outputs": [
    {
     "name": "stdout",
     "output_type": "stream",
     "text": [
      "10\n"
     ]
    }
   ],
   "source": [
    "print(spam) #This is a statement "
   ]
  },
  {
   "cell_type": "raw",
   "id": "0e5266c1",
   "metadata": {},
   "source": [
    "\"\"\"6. After running the following code, what does the variable bacon contain?\n",
    "bacon = 22\n",
    "bacon + 1\"\"\""
   ]
  },
  {
   "cell_type": "code",
   "execution_count": 47,
   "id": "dbc02465",
   "metadata": {},
   "outputs": [
    {
     "data": {
      "text/plain": [
       "'After executing the code, the value of bacon will be 22 because we have only displayed the value of bacon + 1 and not changed\\nthe value of the variable bacon itself.To change the value we can write :'"
      ]
     },
     "execution_count": 47,
     "metadata": {},
     "output_type": "execute_result"
    }
   ],
   "source": [
    "\"\"\"After executing the code, the value of bacon will be 22 because we have only displayed the value of bacon + 1 and not changed\n",
    "the value of the variable bacon itself.To change the value we can write :\"\"\""
   ]
  },
  {
   "cell_type": "code",
   "execution_count": 21,
   "id": "473df4e3",
   "metadata": {},
   "outputs": [],
   "source": [
    "bacon = bacon + 1"
   ]
  },
  {
   "cell_type": "code",
   "execution_count": 22,
   "id": "c1fd9007",
   "metadata": {},
   "outputs": [
    {
     "data": {
      "text/plain": [
       "23"
      ]
     },
     "execution_count": 22,
     "metadata": {},
     "output_type": "execute_result"
    }
   ],
   "source": [
    "bacon"
   ]
  },
  {
   "cell_type": "code",
   "execution_count": 18,
   "id": "5324d2a4",
   "metadata": {},
   "outputs": [],
   "source": [
    "bacon = 22"
   ]
  },
  {
   "cell_type": "code",
   "execution_count": 19,
   "id": "7e93a371",
   "metadata": {},
   "outputs": [
    {
     "data": {
      "text/plain": [
       "23"
      ]
     },
     "execution_count": 19,
     "metadata": {},
     "output_type": "execute_result"
    }
   ],
   "source": [
    "bacon + 1"
   ]
  },
  {
   "cell_type": "code",
   "execution_count": 20,
   "id": "0edcf1bf",
   "metadata": {},
   "outputs": [
    {
     "data": {
      "text/plain": [
       "22"
      ]
     },
     "execution_count": 20,
     "metadata": {},
     "output_type": "execute_result"
    }
   ],
   "source": [
    "bacon"
   ]
  },
  {
   "cell_type": "code",
   "execution_count": null,
   "id": "2d4e30a1",
   "metadata": {},
   "outputs": [],
   "source": [
    "\"\"\"7. What should the values of the following two terms be?\n",
    "'spam' + 'spamspam'\n",
    "'spam' * 3\"\"\""
   ]
  },
  {
   "cell_type": "code",
   "execution_count": 15,
   "id": "3939f473",
   "metadata": {},
   "outputs": [
    {
     "data": {
      "text/plain": [
       "'spamspamspam'"
      ]
     },
     "execution_count": 15,
     "metadata": {},
     "output_type": "execute_result"
    }
   ],
   "source": [
    "'spam' + 'spamspam'"
   ]
  },
  {
   "cell_type": "code",
   "execution_count": 16,
   "id": "08e235d8",
   "metadata": {},
   "outputs": [
    {
     "data": {
      "text/plain": [
       "'spamspamspam'"
      ]
     },
     "execution_count": 16,
     "metadata": {},
     "output_type": "execute_result"
    }
   ],
   "source": [
    "'spam' * 3"
   ]
  },
  {
   "cell_type": "code",
   "execution_count": 17,
   "id": "77d28cbe",
   "metadata": {},
   "outputs": [
    {
     "data": {
      "text/plain": [
       "'\"8. Why is eggs a valid variable name while 100 is invalid?'"
      ]
     },
     "execution_count": 17,
     "metadata": {},
     "output_type": "execute_result"
    }
   ],
   "source": [
    "\"\"\"8. Why is eggs a valid variable name while 100 is invalid?\"\"\""
   ]
  },
  {
   "cell_type": "code",
   "execution_count": null,
   "id": "8e662dbd",
   "metadata": {},
   "outputs": [],
   "source": [
    "\"\"\"As per python naming convention, a variable must start with either a letter or an underscore and not with a number.Thus, eggs is a valid variable name where as 100 is not.\"\"\""
   ]
  },
  {
   "cell_type": "code",
   "execution_count": null,
   "id": "e5e93b6f",
   "metadata": {},
   "outputs": [],
   "source": [
    "\"\"\"9. What three functions can be used to get the integer, floating-point number, or string\n",
    "version of a value?\"\"\""
   ]
  },
  {
   "cell_type": "code",
   "execution_count": null,
   "id": "11ff0b6a",
   "metadata": {},
   "outputs": [],
   "source": [
    "\"\"\"Functions int(), str(), float() can be used to obtain the respective version of a value. We can simply typecast a value in int,float or string version by placing the variable inside round brackets and writing the name of the data type we want to convert the value of our variable into. Example: \"\"\""
   ]
  },
  {
   "cell_type": "code",
   "execution_count": 13,
   "id": "1721e182",
   "metadata": {},
   "outputs": [],
   "source": [
    "a = 100"
   ]
  },
  {
   "cell_type": "code",
   "execution_count": 14,
   "id": "391dbcc6",
   "metadata": {},
   "outputs": [
    {
     "data": {
      "text/plain": [
       "100.0"
      ]
     },
     "execution_count": 14,
     "metadata": {},
     "output_type": "execute_result"
    }
   ],
   "source": [
    "float(a)"
   ]
  },
  {
   "cell_type": "code",
   "execution_count": 1,
   "id": "dbf5e484",
   "metadata": {},
   "outputs": [],
   "source": [
    "a = 100"
   ]
  },
  {
   "cell_type": "code",
   "execution_count": 6,
   "id": "9566e592",
   "metadata": {},
   "outputs": [
    {
     "data": {
      "text/plain": [
       "int"
      ]
     },
     "execution_count": 6,
     "metadata": {},
     "output_type": "execute_result"
    }
   ],
   "source": [
    "type(a)"
   ]
  },
  {
   "cell_type": "code",
   "execution_count": 7,
   "id": "4e5b9ed7",
   "metadata": {},
   "outputs": [],
   "source": [
    "a = float(a)"
   ]
  },
  {
   "cell_type": "code",
   "execution_count": 8,
   "id": "6bb39e19",
   "metadata": {},
   "outputs": [
    {
     "data": {
      "text/plain": [
       "float"
      ]
     },
     "execution_count": 8,
     "metadata": {},
     "output_type": "execute_result"
    }
   ],
   "source": [
    "type(a)"
   ]
  },
  {
   "cell_type": "code",
   "execution_count": 9,
   "id": "77b253d8",
   "metadata": {},
   "outputs": [
    {
     "data": {
      "text/plain": [
       "100.0"
      ]
     },
     "execution_count": 9,
     "metadata": {},
     "output_type": "execute_result"
    }
   ],
   "source": [
    "a"
   ]
  },
  {
   "cell_type": "code",
   "execution_count": 10,
   "id": "3ec51d60",
   "metadata": {},
   "outputs": [],
   "source": [
    "a = str(a)"
   ]
  },
  {
   "cell_type": "code",
   "execution_count": 11,
   "id": "d5166891",
   "metadata": {},
   "outputs": [
    {
     "data": {
      "text/plain": [
       "str"
      ]
     },
     "execution_count": 11,
     "metadata": {},
     "output_type": "execute_result"
    }
   ],
   "source": [
    "type(a)"
   ]
  },
  {
   "cell_type": "code",
   "execution_count": 12,
   "id": "5a1fb8b2",
   "metadata": {},
   "outputs": [
    {
     "data": {
      "text/plain": [
       "'100.0'"
      ]
     },
     "execution_count": 12,
     "metadata": {},
     "output_type": "execute_result"
    }
   ],
   "source": [
    "a"
   ]
  },
  {
   "cell_type": "code",
   "execution_count": null,
   "id": "c66801aa",
   "metadata": {},
   "outputs": [],
   "source": [
    "\"\"\"10. Why does this expression cause an error? How can you fix it?\n",
    "'I have eaten' + 99 + 'burritos.'\"\"\""
   ]
  },
  {
   "cell_type": "code",
   "execution_count": 3,
   "id": "7236ab33",
   "metadata": {},
   "outputs": [
    {
     "ename": "TypeError",
     "evalue": "can only concatenate str (not \"int\") to str",
     "output_type": "error",
     "traceback": [
      "\u001b[1;31m---------------------------------------------------------------------------\u001b[0m",
      "\u001b[1;31mTypeError\u001b[0m                                 Traceback (most recent call last)",
      "Input \u001b[1;32mIn [3]\u001b[0m, in \u001b[0;36m<cell line: 1>\u001b[1;34m()\u001b[0m\n\u001b[1;32m----> 1\u001b[0m \u001b[38;5;124;43m'\u001b[39;49m\u001b[38;5;124;43mI have eaten\u001b[39;49m\u001b[38;5;124;43m'\u001b[39;49m\u001b[43m \u001b[49m\u001b[38;5;241;43m+\u001b[39;49m\u001b[43m \u001b[49m\u001b[38;5;241;43m99\u001b[39;49m \u001b[38;5;241m+\u001b[39m \u001b[38;5;124m'\u001b[39m\u001b[38;5;124mburritos.\u001b[39m\u001b[38;5;124m'\u001b[39m\n",
      "\u001b[1;31mTypeError\u001b[0m: can only concatenate str (not \"int\") to str"
     ]
    }
   ],
   "source": [
    "'I have eaten' + 99 + 'burritos.'"
   ]
  },
  {
   "cell_type": "code",
   "execution_count": null,
   "id": "82419bb8",
   "metadata": {},
   "outputs": [],
   "source": [
    "\"\"\"We see an error in this expression because we can not concatenate string data type with integer data type. To fix this error we can change the data type from integer to string by adding (') on the begining and end of the integer data type as shown below:\"\"\""
   ]
  },
  {
   "cell_type": "code",
   "execution_count": 5,
   "id": "5734e810",
   "metadata": {},
   "outputs": [
    {
     "data": {
      "text/plain": [
       "'I have eaten 99 burritos.'"
      ]
     },
     "execution_count": 5,
     "metadata": {},
     "output_type": "execute_result"
    }
   ],
   "source": [
    "'I have eaten' + ' 99 ' + 'burritos.'"
   ]
  }
 ],
 "metadata": {
  "kernelspec": {
   "display_name": "Python 3 (ipykernel)",
   "language": "python",
   "name": "python3"
  },
  "language_info": {
   "codemirror_mode": {
    "name": "ipython",
    "version": 3
   },
   "file_extension": ".py",
   "mimetype": "text/x-python",
   "name": "python",
   "nbconvert_exporter": "python",
   "pygments_lexer": "ipython3",
   "version": "3.9.12"
  }
 },
 "nbformat": 4,
 "nbformat_minor": 5
}
