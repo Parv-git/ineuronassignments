{
 "cells": [
  {
   "cell_type": "code",
   "execution_count": null,
   "id": "b8cdd532",
   "metadata": {},
   "outputs": [],
   "source": [
    "#1. Write a Python program to find sum of elements in list?"
   ]
  },
  {
   "cell_type": "code",
   "execution_count": 4,
   "id": "46eb0ecd",
   "metadata": {},
   "outputs": [
    {
     "name": "stdout",
     "output_type": "stream",
     "text": [
      "Enter the number of elements in the list : 5\n",
      "Enter Element 1 : 10\n",
      "Enter Element 2 : 20\n",
      "Enter Element 3 : 30\n",
      "Enter Element 4 : 4\n",
      "Enter Element 5 : 6\n",
      "['10', '20', '30', '4', '6']\n",
      "70\n"
     ]
    }
   ],
   "source": [
    "n = int(input('Enter the number of elements in the list : '))\n",
    "a = []\n",
    "for i in range(1,n+1):\n",
    "    a.append(input(f'Enter Element {i} : '))\n",
    "print(a)\n",
    "b = 0\n",
    "for i in a:\n",
    "    b = b + int(i)\n",
    "print(b)"
   ]
  },
  {
   "cell_type": "code",
   "execution_count": null,
   "id": "ffc55643",
   "metadata": {},
   "outputs": [],
   "source": [
    "#2. Write a Python program to Multiply all numbers in the list?"
   ]
  },
  {
   "cell_type": "code",
   "execution_count": 6,
   "id": "06ecbce6",
   "metadata": {},
   "outputs": [
    {
     "name": "stdout",
     "output_type": "stream",
     "text": [
      "Enter the number of elements in the list : 5\n",
      "Enter Element 1 : 5\n",
      "Enter Element 2 : 16\n",
      "Enter Element 3 : 25\n",
      "Enter Element 4 : 45\n",
      "Enter Element 5 : 95\n",
      "['5', '16', '25', '45', '95']\n",
      "8550000\n"
     ]
    }
   ],
   "source": [
    "n = int(input('Enter the number of elements in the list : '))\n",
    "a = []\n",
    "for i in range(1,n+1):\n",
    "    a.append(input(f'Enter Element {i} : '))\n",
    "print(a)\n",
    "b = 1\n",
    "for i in a:\n",
    "    b = b * int(i)\n",
    "print(b)"
   ]
  },
  {
   "cell_type": "code",
   "execution_count": null,
   "id": "1f9aabfa",
   "metadata": {},
   "outputs": [],
   "source": [
    "#3. Write a Python program to find smallest number in a list?"
   ]
  },
  {
   "cell_type": "code",
   "execution_count": 19,
   "id": "1380d49b",
   "metadata": {},
   "outputs": [
    {
     "name": "stdout",
     "output_type": "stream",
     "text": [
      "Enter the number of elements in the list : 5\n",
      "Enter Element 1 : 54\n",
      "Enter Element 2 : 56\n",
      "Enter Element 3 : 2\n",
      "Enter Element 4 : 56\n",
      "Enter Element 5 : 569\n",
      "['54', '56', '2', '56', '569']\n",
      "The smallest number of the given list is  2\n"
     ]
    }
   ],
   "source": [
    "n = int(input('Enter the number of elements in the list : '))\n",
    "a = []\n",
    "for i in range(1,n+1):\n",
    "    a.append(input(f'Enter Element {i} : '))\n",
    "print(a)\n",
    "min1 = a[0]\n",
    "for j in range(len(a)):\n",
    "    if a[j]<min1:\n",
    "        min1 = a[j]\n",
    "print('The smallest number of the given list is ', min1)"
   ]
  },
  {
   "cell_type": "code",
   "execution_count": null,
   "id": "dc0f7de2",
   "metadata": {},
   "outputs": [],
   "source": [
    "#4. Write a Python program to find largest number in a list?"
   ]
  },
  {
   "cell_type": "code",
   "execution_count": 1,
   "id": "5c3d76d5",
   "metadata": {},
   "outputs": [
    {
     "name": "stdout",
     "output_type": "stream",
     "text": [
      "Enter the number of elements in the list : 5\n",
      "Enter Element 1 : 12\n",
      "Enter Element 2 : 23\n",
      "Enter Element 3 : 53\n",
      "Enter Element 4 : 32\n",
      "Enter Element 5 : 12\n",
      "[12, 23, 53, 32, 12]\n",
      "The largest number of the given list is  53\n"
     ]
    }
   ],
   "source": [
    "n = int(input('Enter the number of elements in the list : '))\n",
    "a = []\n",
    "for i in range(1,n+1):\n",
    "    a.append(int(input(f'Enter Element {i} : ')))\n",
    "print(a)\n",
    "max1 = a[0]\n",
    "for j in range(len(a)):\n",
    "    if a[j]>max1:\n",
    "        max1 = a[j]\n",
    "print('The largest number of the given list is ', max1)"
   ]
  },
  {
   "cell_type": "code",
   "execution_count": null,
   "id": "13b5e994",
   "metadata": {},
   "outputs": [],
   "source": [
    "#5. Write a Python program to find second largest number in a list?"
   ]
  },
  {
   "cell_type": "code",
   "execution_count": 4,
   "id": "7779fe3d",
   "metadata": {},
   "outputs": [
    {
     "name": "stdout",
     "output_type": "stream",
     "text": [
      "Enter the number of elements in the list : 5\n",
      "Enter Element 1 : 12\n",
      "Enter Element 2 : 56\n",
      "Enter Element 3 : 65\n",
      "Enter Element 4 : 32\n",
      "Enter Element 5 : 23\n",
      "[12, 56, 65, 32, 23]\n",
      "The largest number of the given list is  65\n",
      "The second largest number of the given list is  56\n"
     ]
    }
   ],
   "source": [
    "n = int(input('Enter the number of elements in the list : '))\n",
    "a = []\n",
    "for i in range(1,n+1):\n",
    "    a.append(int(input(f'Enter Element {i} : ')))\n",
    "print(a)\n",
    "max1 = a[0]\n",
    "for j in range(len(a)):\n",
    "    if a[j]>max1:\n",
    "        max1 = a[j]\n",
    "print('The largest number of the given list is ', max1)\n",
    "max2 = a[0]\n",
    "for k in range(len(a)):\n",
    "    if a[k] == max1:\n",
    "        a[k] = 0\n",
    "for l in range(len(a)):\n",
    "    if a[l]>max2:\n",
    "        max2 = a[l]\n",
    "print('The second largest number of the given list is ', max2)"
   ]
  },
  {
   "cell_type": "code",
   "execution_count": null,
   "id": "2ba9d911",
   "metadata": {},
   "outputs": [],
   "source": [
    "#6. Write a Python program to find N largest elements from a list?"
   ]
  },
  {
   "cell_type": "code",
   "execution_count": 5,
   "id": "489b07f7",
   "metadata": {},
   "outputs": [
    {
     "name": "stdout",
     "output_type": "stream",
     "text": [
      "Enter the number of elements in the list : 10\n",
      "Enter Element 1 : 12\n",
      "Enter Element 2 : 15\n",
      "Enter Element 3 : 16\n",
      "Enter Element 4 : 18\n",
      "Enter Element 5 : 159\n",
      "Enter Element 6 : 352\n",
      "Enter Element 7 : 652\n",
      "Enter Element 8 : 655\n",
      "Enter Element 9 : 789\n",
      "Enter Element 10 : 852\n",
      "[12, 15, 16, 18, 159, 352, 652, 655, 789, 852]\n",
      "Enter the number of largest elements you want from the list: 5\n",
      "Largest 5 numbers are : [852, 789, 655, 652, 352]\n"
     ]
    }
   ],
   "source": [
    "n = int(input('Enter the number of elements in the list : '))\n",
    "a = []\n",
    "for i in range(1,n+1):\n",
    "    a.append(int(input(f'Enter Element {i} : ')))\n",
    "print(a)\n",
    "l = int(input('Enter the number of largest elements you want from the list: '))\n",
    "b = []\n",
    "for j in range(0,l):\n",
    "    max1 = 0\n",
    "    for k in range(len(a)):\n",
    "        if a[k]>max1:\n",
    "            max1 = a[k]\n",
    "    a.remove(max1)\n",
    "    b.append(max1)\n",
    "print(f'Largest {l} numbers are : {b}')"
   ]
  },
  {
   "cell_type": "code",
   "execution_count": null,
   "id": "3842a546",
   "metadata": {},
   "outputs": [],
   "source": [
    "#7. Write a Python program to print even numbers in a list?"
   ]
  },
  {
   "cell_type": "code",
   "execution_count": 12,
   "id": "e66b24e8",
   "metadata": {},
   "outputs": [
    {
     "name": "stdout",
     "output_type": "stream",
     "text": [
      "Enter the number of elements in the list : 5\n",
      "Enter Element 1 : 3\n",
      "Enter Element 2 : 5\n",
      "Enter Element 3 : 2\n",
      "Enter Element 4 : 7\n",
      "Enter Element 5 : 4\n",
      "[3, 5, 2, 7, 4]\n",
      "The even numbers from the list are [2, 4]\n"
     ]
    }
   ],
   "source": [
    "n = int(input('Enter the number of elements in the list : '))\n",
    "a = []\n",
    "for i in range(1,n+1):\n",
    "    a.append(int(input(f'Enter Element {i} : ')))\n",
    "print(a)\n",
    "b = []\n",
    "for i in range(len(a)):\n",
    "    if a[i]%2==0:\n",
    "        b.append(a[i])\n",
    "print(f'The even numbers from the list are {b}')"
   ]
  },
  {
   "cell_type": "code",
   "execution_count": null,
   "id": "5f2b2781",
   "metadata": {},
   "outputs": [],
   "source": [
    "#8. Write a Python program to print odd numbers in a List?"
   ]
  },
  {
   "cell_type": "code",
   "execution_count": 14,
   "id": "e58daab3",
   "metadata": {},
   "outputs": [
    {
     "name": "stdout",
     "output_type": "stream",
     "text": [
      "Enter the number of elements in the list : 5\n",
      "Enter Element 1 : 1\n",
      "Enter Element 2 : 2\n",
      "Enter Element 3 : 3\n",
      "Enter Element 4 : 5\n",
      "Enter Element 5 : 7\n",
      "[1, 2, 3, 5, 7]\n",
      "The odd numbers from the list are [1, 3, 5, 7]\n"
     ]
    }
   ],
   "source": [
    "n = int(input('Enter the number of elements in the list : '))\n",
    "a = []\n",
    "for i in range(1,n+1):\n",
    "    a.append(int(input(f'Enter Element {i} : ')))\n",
    "print(a)\n",
    "b = []\n",
    "for i in range(len(a)):\n",
    "    if a[i]%2==1:\n",
    "        b.append(a[i])\n",
    "print(f'The odd numbers from the list are {b}')"
   ]
  },
  {
   "cell_type": "code",
   "execution_count": null,
   "id": "a3f5d8b9",
   "metadata": {},
   "outputs": [],
   "source": [
    "#9. Write a Python program to Remove empty List from List?"
   ]
  },
  {
   "cell_type": "code",
   "execution_count": 20,
   "id": "c3ed9042",
   "metadata": {},
   "outputs": [
    {
     "name": "stdout",
     "output_type": "stream",
     "text": [
      "Enter the number of elements in the list : 5\n",
      "Enter Element 1 : 12\n",
      "Enter Element 2 : []\n",
      "Enter Element 3 : 6\n",
      "Enter Element 4 : []\n",
      "Enter Element 5 : 65\n",
      "['12', '[]', '6', '[]', '65']\n",
      "['12', '6', '65']\n"
     ]
    }
   ],
   "source": [
    "n = int(input('Enter the number of elements in the list : '))\n",
    "a = []\n",
    "for i in range(1,n+1):\n",
    "    a.append(input(f'Enter Element {i} : '))\n",
    "print(a)\n",
    "b = []\n",
    "for i in range(0,n):\n",
    "    if a[i] != '[]':\n",
    "        b.append(a[i])\n",
    "print(b)"
   ]
  },
  {
   "cell_type": "code",
   "execution_count": null,
   "id": "6d8d00e5",
   "metadata": {},
   "outputs": [],
   "source": [
    "#10. Write a Python program to Cloning or Copying a list?"
   ]
  },
  {
   "cell_type": "code",
   "execution_count": 16,
   "id": "52a3a17f",
   "metadata": {},
   "outputs": [
    {
     "name": "stdout",
     "output_type": "stream",
     "text": [
      "Enter the number of elements in the list : 5\n",
      "Enter Element 1 : 12\n",
      "Enter Element 2 : 13\n",
      "Enter Element 3 : 16\n",
      "Enter Element 4 : 15\n",
      "Enter Element 5 : 14\n",
      "[12, 13, 16, 15, 14]\n",
      "[12, 13, 16, 15, 14]\n"
     ]
    }
   ],
   "source": [
    "n = int(input('Enter the number of elements in the list : '))\n",
    "a = []\n",
    "for i in range(1,n+1):\n",
    "    a.append(int(input(f'Enter Element {i} : ')))\n",
    "print(a)\n",
    "b =[]\n",
    "for i in range(0,n):\n",
    "    b.append(a[i])\n",
    "print(b)"
   ]
  },
  {
   "cell_type": "code",
   "execution_count": null,
   "id": "3ad08a55",
   "metadata": {},
   "outputs": [],
   "source": [
    "#11. Write a Python program to Count occurrences of an element in a list?"
   ]
  },
  {
   "cell_type": "code",
   "execution_count": 26,
   "id": "7d1830e6",
   "metadata": {},
   "outputs": [
    {
     "name": "stdout",
     "output_type": "stream",
     "text": [
      "Enter the number of elements in the list : 5\n",
      "Enter Element 1 : 1\n",
      "Enter Element 2 : 32\n",
      "Enter Element 3 : 1\n",
      "Enter Element 4 : 65\n",
      "Enter Element 5 : 1\n",
      "['1', '32', '1', '65', '1']\n",
      "Enter the element you want to find the number of occurances for : 1\n",
      " The element 1 has occured 3 times\n"
     ]
    }
   ],
   "source": [
    "n = int(input('Enter the number of elements in the list : '))\n",
    "a = []\n",
    "for i in range(1,n+1):\n",
    "    a.append(input(f'Enter Element {i} : '))\n",
    "print(a)\n",
    "k = {}\n",
    "for j in a:\n",
    "    if j in k:\n",
    "        k[j] += 1\n",
    "    else:\n",
    "        k[j] = 1\n",
    "        \n",
    "e = input('Enter the element you want to find the number of occurances for : ')\n",
    "print(f' The element {e} has occured {k[e]} times')"
   ]
  }
 ],
 "metadata": {
  "kernelspec": {
   "display_name": "Python 3 (ipykernel)",
   "language": "python",
   "name": "python3"
  },
  "language_info": {
   "codemirror_mode": {
    "name": "ipython",
    "version": 3
   },
   "file_extension": ".py",
   "mimetype": "text/x-python",
   "name": "python",
   "nbconvert_exporter": "python",
   "pygments_lexer": "ipython3",
   "version": "3.9.12"
  }
 },
 "nbformat": 4,
 "nbformat_minor": 5
}
