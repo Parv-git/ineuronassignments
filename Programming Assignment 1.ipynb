{
 "cells": [
  {
   "cell_type": "code",
   "execution_count": null,
   "id": "ba1a215e",
   "metadata": {},
   "outputs": [],
   "source": [
    "#1. Write a Python program to print 'Hello Python'?"
   ]
  },
  {
   "cell_type": "code",
   "execution_count": 1,
   "id": "f2fc1dbb",
   "metadata": {},
   "outputs": [
    {
     "name": "stdout",
     "output_type": "stream",
     "text": [
      "Hello Python\n"
     ]
    }
   ],
   "source": [
    "print('Hello Python')"
   ]
  },
  {
   "cell_type": "code",
   "execution_count": null,
   "id": "13c0e31a",
   "metadata": {},
   "outputs": [],
   "source": [
    "#2. Write a Python program to do arithmetical operations addition and division.?"
   ]
  },
  {
   "cell_type": "code",
   "execution_count": 5,
   "id": "cc45c1f1",
   "metadata": {},
   "outputs": [
    {
     "name": "stdout",
     "output_type": "stream",
     "text": [
      "Enter a = 20\n",
      "Enter b = 2\n",
      "22\n",
      "10\n"
     ]
    }
   ],
   "source": [
    "a = int(input('Enter a = '))\n",
    "b = int(input('Enter b = '))\n",
    "c = a+b\n",
    "d = a/b\n",
    "print(c)\n",
    "print(int(d))"
   ]
  },
  {
   "cell_type": "code",
   "execution_count": null,
   "id": "e4446f91",
   "metadata": {},
   "outputs": [],
   "source": [
    "#3. Write a Python program to find the area of a triangle?"
   ]
  },
  {
   "cell_type": "code",
   "execution_count": 9,
   "id": "87a09760",
   "metadata": {},
   "outputs": [
    {
     "name": "stdout",
     "output_type": "stream",
     "text": [
      "Enter the base of triangle : 5\n",
      "Enter the height of a triangle :10\n",
      "25 is the area of the triangle.\n"
     ]
    }
   ],
   "source": [
    "b = int(input('Enter the base of triangle : '))\n",
    "h = int(input('Enter the height of a triangle :'))\n",
    "area = (b*h)/2\n",
    "print(int(area),'is the area of the triangle.')"
   ]
  },
  {
   "cell_type": "code",
   "execution_count": null,
   "id": "0babec4a",
   "metadata": {},
   "outputs": [],
   "source": [
    "#4. Write a Python program to swap two variables?"
   ]
  },
  {
   "cell_type": "code",
   "execution_count": null,
   "id": "00ee48cc",
   "metadata": {},
   "outputs": [],
   "source": [
    "a = input('Enter the value of a: ')\n",
    "b = input('Enter the value of b: ')\n",
    "print('Before swapping, the value of a and b is ',a, b)\n",
    "c = a\n",
    "a = b\n",
    "b = c\n",
    "# we can also swap values in python as : a,b = b,a\n",
    "print('After swapping, the value of a and b is ',a, b)"
   ]
  },
  {
   "cell_type": "code",
   "execution_count": null,
   "id": "a26df0b8",
   "metadata": {},
   "outputs": [],
   "source": [
    "#5. Write a Python program to generate a random number?"
   ]
  },
  {
   "cell_type": "code",
   "execution_count": 2,
   "id": "708d39f6",
   "metadata": {},
   "outputs": [
    {
     "name": "stdout",
     "output_type": "stream",
     "text": [
      "Press r to generate a random number or anything else to exit : r\n",
      "Enter the upper limit of the random number generator : 513\n",
      "228\n"
     ]
    }
   ],
   "source": [
    "import random\n",
    "\n",
    "a = input('Press r to generate a random number or anything else to exit : ')\n",
    "if a == 'r':\n",
    "    n = int(input('Enter the upper limit of the random number generator : '))\n",
    "    s = random.randint(0,n)\n",
    "    print(s)"
   ]
  }
 ],
 "metadata": {
  "kernelspec": {
   "display_name": "Python 3 (ipykernel)",
   "language": "python",
   "name": "python3"
  },
  "language_info": {
   "codemirror_mode": {
    "name": "ipython",
    "version": 3
   },
   "file_extension": ".py",
   "mimetype": "text/x-python",
   "name": "python",
   "nbconvert_exporter": "python",
   "pygments_lexer": "ipython3",
   "version": "3.9.12"
  }
 },
 "nbformat": 4,
 "nbformat_minor": 5
}
